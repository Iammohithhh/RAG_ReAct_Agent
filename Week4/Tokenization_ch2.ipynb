{
 "cells": [
  {
   "cell_type": "code",
   "execution_count": 2,
   "id": "0a724371",
   "metadata": {},
   "outputs": [
    {
     "name": "stdout",
     "output_type": "stream",
     "text": [
      "total no of chars: 20479\n",
      "I HAD always thought Jack Gisburn rather a cheap genius--though a good fellow enough--so it was no \n"
     ]
    }
   ],
   "source": [
    "with open(\"the-verdict (1).txt\", \"r\", encoding=\"utf-8\") as f:\n",
    "    raw_text = f.read()\n",
    "print(\"total no of chars:\", len(raw_text))\n",
    "print(raw_text[:99])"
   ]
  },
  {
   "cell_type": "markdown",
   "id": "e6e2f319",
   "metadata": {},
   "source": [
    "We use re to split the words and expressions in the text"
   ]
  },
  {
   "cell_type": "code",
   "execution_count": 9,
   "id": "25c5fe6c",
   "metadata": {},
   "outputs": [
    {
     "name": "stdout",
     "output_type": "stream",
     "text": [
      "['I', 'HAD', 'always', 'thought', 'Jack', 'Gisburn', 'rather', 'a', 'cheap', 'genius', '--', 'though', 'a', 'good', 'fellow', 'enough', '--', 'so', 'it', 'was', 'no', 'great', 'surprise', 'to', 'me', 'to', 'hear', 'that', ',', 'in']\n"
     ]
    }
   ],
   "source": [
    "import re\n",
    "preprocessed = re.split(r'([,.:;?_!\"()\\']|--|\\s)', raw_text)\n",
    "preprocessed = [item.strip() for item in preprocessed if item.strip()]\n",
    "print(preprocessed[:30])"
   ]
  },
  {
   "cell_type": "markdown",
   "id": "fb713734",
   "metadata": {},
   "source": [
    "## Creating Token IDs"
   ]
  },
  {
   "cell_type": "code",
   "execution_count": 10,
   "id": "87c95a94",
   "metadata": {},
   "outputs": [
    {
     "name": "stdout",
     "output_type": "stream",
     "text": [
      "1130\n"
     ]
    }
   ],
   "source": [
    "all_words = sorted(set(preprocessed))\n",
    "vocab_size = len(all_words)\n",
    "\n",
    "print(vocab_size)"
   ]
  },
  {
   "cell_type": "code",
   "execution_count": 11,
   "id": "a42c7cb8",
   "metadata": {},
   "outputs": [],
   "source": [
    "vocab = {token:integer for integer, token in enumerate(all_words)} ##U are creating a dic, and assigning numbers from 0 to so on to alpabetically arranged words\n"
   ]
  },
  {
   "cell_type": "code",
   "execution_count": 12,
   "id": "cb1283ab",
   "metadata": {},
   "outputs": [
    {
     "name": "stdout",
     "output_type": "stream",
     "text": [
      "('!', 0)\n",
      "('\"', 1)\n",
      "(\"'\", 2)\n",
      "('(', 3)\n",
      "(')', 4)\n",
      "(',', 5)\n",
      "('--', 6)\n",
      "('.', 7)\n",
      "(':', 8)\n",
      "(';', 9)\n",
      "('?', 10)\n",
      "('A', 11)\n",
      "('Ah', 12)\n",
      "('Among', 13)\n",
      "('And', 14)\n",
      "('Are', 15)\n",
      "('Arrt', 16)\n",
      "('As', 17)\n",
      "('At', 18)\n",
      "('Be', 19)\n",
      "('Begin', 20)\n",
      "('Burlington', 21)\n",
      "('But', 22)\n",
      "('By', 23)\n",
      "('Carlo', 24)\n",
      "('Chicago', 25)\n",
      "('Claude', 26)\n",
      "('Come', 27)\n",
      "('Croft', 28)\n",
      "('Destroyed', 29)\n",
      "('Devonshire', 30)\n"
     ]
    }
   ],
   "source": [
    "for i, item in enumerate(vocab.items()):\n",
    "    print(item)\n",
    "    if i>=30:\n",
    "        break"
   ]
  },
  {
   "cell_type": "markdown",
   "id": "86d5ce4a",
   "metadata": {},
   "source": [
    "## Simple tokenizer class"
   ]
  },
  {
   "cell_type": "code",
   "execution_count": 14,
   "id": "31d51f7e",
   "metadata": {},
   "outputs": [],
   "source": [
    "class SimpleTokenizerV1:\n",
    "    def __init__(self, vocab):\n",
    "        self.str_to_int = vocab\n",
    "        self.int_to_str = {i:s for s, i in vocab.items()}\n",
    "        \n",
    "    def encode(self, text):\n",
    "        preprocessed = re.split(r'([,.:;?!\"()\\')]|--|\\s)', text)\n",
    "        \n",
    "        preprocessed = [\n",
    "            item.strip() for item in preprocessed if item.strip()\n",
    "        ]\n",
    "        ids = [self.str_to_int[s] for s in preprocessed]\n",
    "        return ids\n",
    "    \n",
    "    def decode(self, ids):\n",
    "        text= \" \".join([self.int_to_str[i] for i in ids])\n",
    "        \n",
    "        text = re.sub(r'\\s+([,.?!\"()\\'])', r'\\1',text)\n",
    "        return text"
   ]
  },
  {
   "cell_type": "code",
   "execution_count": 16,
   "id": "c3e5f590",
   "metadata": {},
   "outputs": [
    {
     "name": "stdout",
     "output_type": "stream",
     "text": [
      "[53, 44, 149, 1003, 57, 38, 818, 115, 256, 486, 6, 1002, 115, 500, 435, 392, 6, 908, 585, 1077, 709, 508, 961, 1016, 663, 1016, 535, 987, 5, 568, 988, 538, 722, 549, 496]\n"
     ]
    }
   ],
   "source": [
    "tokenizer = SimpleTokenizerV1(vocab)\n",
    "\n",
    "text = \"\"\"I HAD always thought Jack Gisburn rather a cheap genius--though a good fellow enough--so it was no great surprise to me to hear that, in the height of his glory\"\"\"\n",
    "#use 3 \"\"\"\n",
    "ids = tokenizer.encode(text)\n",
    "print(ids)"
   ]
  },
  {
   "cell_type": "code",
   "execution_count": 17,
   "id": "01df63ea",
   "metadata": {},
   "outputs": [
    {
     "data": {
      "text/plain": [
       "'I HAD always thought Jack Gisburn rather a cheap genius -- though a good fellow enough -- so it was no great surprise to me to hear that, in the height of his glory'"
      ]
     },
     "execution_count": 17,
     "metadata": {},
     "output_type": "execute_result"
    }
   ],
   "source": [
    "tokenizer.decode(ids)"
   ]
  },
  {
   "cell_type": "markdown",
   "id": "8c0477b6",
   "metadata": {},
   "source": [
    "### Adding special text tokens"
   ]
  },
  {
   "cell_type": "code",
   "execution_count": 18,
   "id": "e589223d",
   "metadata": {},
   "outputs": [],
   "source": [
    "all_tokens = sorted(list(set(preprocessed)))\n",
    "all_tokens.extend([\"<|endoftext|>\",\"<|unk|>\"])\n",
    "\n",
    "vocab = {token:integer for integer, token in enumerate(all_tokens)}"
   ]
  },
  {
   "cell_type": "code",
   "execution_count": 19,
   "id": "c47470d4",
   "metadata": {},
   "outputs": [
    {
     "data": {
      "text/plain": [
       "1132"
      ]
     },
     "execution_count": 19,
     "metadata": {},
     "output_type": "execute_result"
    }
   ],
   "source": [
    "len(vocab.items())"
   ]
  },
  {
   "cell_type": "code",
   "execution_count": 26,
   "id": "0acf6e48",
   "metadata": {},
   "outputs": [
    {
     "name": "stdout",
     "output_type": "stream",
     "text": [
      "('younger', 1127)\n",
      "('your', 1128)\n",
      "('yourself', 1129)\n",
      "('<|endoftext|>', 1130)\n",
      "('<|unk|>', 1131)\n"
     ]
    }
   ],
   "source": [
    "for i, item in enumerate(list(vocab.items())[-5:]):\n",
    "    print(item)"
   ]
  },
  {
   "cell_type": "code",
   "execution_count": 27,
   "id": "d5266892",
   "metadata": {},
   "outputs": [],
   "source": [
    "class SimpleTokenizerV2:\n",
    "    def __init__(self, vocab):\n",
    "        self.str_to_int = vocab\n",
    "        self.int_to_str = {i:s for s, i in vocab.items()}\n",
    "        \n",
    "    def encode(self, text):\n",
    "        preprocessed = re.split(r'([,.:;?!\"()\\')]|--|\\s)', text)\n",
    "        \n",
    "        preprocessed = [\n",
    "            item.strip() for item in preprocessed if item.strip()\n",
    "        ]\n",
    "        preprocessed = [\n",
    "            item if item in self.str_to_int\n",
    "            else \"<|unk|>\" for item in preprocessed\n",
    "        ]\n",
    "        \n",
    "        ids = [self.str_to_int[s] for s in preprocessed]\n",
    "        return ids\n",
    "    \n",
    "    def decode(self, ids):\n",
    "        text= \" \".join([self.int_to_str[i] for i in ids])\n",
    "        \n",
    "        text = re.sub(r'\\s+([,.?!\"()\\'])', r'\\1',text)\n",
    "        return text\n",
    "    "
   ]
  },
  {
   "cell_type": "code",
   "execution_count": 32,
   "id": "92126e8b",
   "metadata": {},
   "outputs": [
    {
     "name": "stdout",
     "output_type": "stream",
     "text": [
      "Hello, do you like tea? <|endoftext|> In the sunlit terraces of the palace.\n"
     ]
    }
   ],
   "source": [
    "tokenizer = SimpleTokenizerV2(vocab)\n",
    "\n",
    "text1 = \"Hello, do you like tea?\"\n",
    "text2 = \"In the sunlit terraces of the palace.\"\n",
    "\n",
    "text = \" <|endoftext|> \".join((text1,text2))\n",
    "print(text)"
   ]
  },
  {
   "cell_type": "code",
   "execution_count": 33,
   "id": "17e1eff1",
   "metadata": {},
   "outputs": [
    {
     "data": {
      "text/plain": [
       "[1131, 5, 355, 1126, 628, 975, 10, 1130, 55, 988, 956, 984, 722, 988, 1131, 7]"
      ]
     },
     "execution_count": 33,
     "metadata": {},
     "output_type": "execute_result"
    }
   ],
   "source": [
    "tokenizer.encode(text)"
   ]
  },
  {
   "cell_type": "code",
   "execution_count": 35,
   "id": "2252cb41",
   "metadata": {},
   "outputs": [
    {
     "data": {
      "text/plain": [
       "'<|unk|>, do you like tea? <|endoftext|> In the sunlit terraces of the <|unk|>.'"
      ]
     },
     "execution_count": 35,
     "metadata": {},
     "output_type": "execute_result"
    }
   ],
   "source": [
    "tokenizer.decode(tokenizer.encode(text))"
   ]
  },
  {
   "cell_type": "markdown",
   "id": "614a9fad",
   "metadata": {},
   "source": [
    "## Byte Pair Encoding"
   ]
  },
  {
   "cell_type": "code",
   "execution_count": 38,
   "id": "968295b5",
   "metadata": {},
   "outputs": [
    {
     "name": "stdout",
     "output_type": "stream",
     "text": [
      "Requirement already satisfied: tiktoken in c:\\users\\iammo\\anaconda3\\lib\\site-packages (0.9.0)\n",
      "Requirement already satisfied: regex>=2022.1.18 in c:\\users\\iammo\\anaconda3\\lib\\site-packages (from tiktoken) (2023.10.3)\n",
      "Requirement already satisfied: requests>=2.26.0 in c:\\users\\iammo\\anaconda3\\lib\\site-packages (from tiktoken) (2.32.3)\n",
      "Requirement already satisfied: charset-normalizer<4,>=2 in c:\\users\\iammo\\anaconda3\\lib\\site-packages (from requests>=2.26.0->tiktoken) (2.0.4)\n",
      "Requirement already satisfied: idna<4,>=2.5 in c:\\users\\iammo\\anaconda3\\lib\\site-packages (from requests>=2.26.0->tiktoken) (3.4)\n",
      "Requirement already satisfied: urllib3<3,>=1.21.1 in c:\\users\\iammo\\anaconda3\\lib\\site-packages (from requests>=2.26.0->tiktoken) (2.0.7)\n",
      "Requirement already satisfied: certifi>=2017.4.17 in c:\\users\\iammo\\anaconda3\\lib\\site-packages (from requests>=2.26.0->tiktoken) (2024.8.30)\n"
     ]
    }
   ],
   "source": [
    "! pip3 install tiktoken"
   ]
  },
  {
   "cell_type": "code",
   "execution_count": 39,
   "id": "f86b10e6",
   "metadata": {},
   "outputs": [],
   "source": [
    "import importlib\n",
    "import tiktoken\n"
   ]
  },
  {
   "cell_type": "code",
   "execution_count": 42,
   "id": "ddec2c80",
   "metadata": {},
   "outputs": [],
   "source": [
    "tokenizer = tiktoken.get_encoding(\"gpt2\") # this is BPE from gpt2"
   ]
  },
  {
   "cell_type": "code",
   "execution_count": 43,
   "id": "36c684c5",
   "metadata": {},
   "outputs": [
    {
     "name": "stdout",
     "output_type": "stream",
     "text": [
      "[15496, 11, 466, 345, 588, 8887, 30, 220, 50256, 554, 262, 4252, 18250, 8812, 2114, 1659, 617, 34680, 27271, 13]\n"
     ]
    }
   ],
   "source": [
    "text = (\n",
    "    \"Hello, do you like tea? <|endoftext|> In the sunlit terraces\"\n",
    "    \"of someunknownPlace.\"\n",
    "    )\n",
    "\n",
    "integers = tokenizer.encode(text, allowed_special={\"<|endoftext|>\"})\n",
    "\n",
    "print(integers)"
   ]
  },
  {
   "cell_type": "code",
   "execution_count": 44,
   "id": "5b3e2f1c",
   "metadata": {},
   "outputs": [
    {
     "name": "stdout",
     "output_type": "stream",
     "text": [
      "Hello, do you like tea? <|endoftext|> In the sunlit terracesof someunknownPlace.\n"
     ]
    }
   ],
   "source": [
    "strings = tokenizer.decode(integers)\n",
    "print(strings)"
   ]
  },
  {
   "cell_type": "markdown",
   "id": "52bd58ab",
   "metadata": {},
   "source": [
    "## CREATING INPUT - TARGET PAIRS"
   ]
  },
  {
   "cell_type": "code",
   "execution_count": 45,
   "id": "4f95845f",
   "metadata": {},
   "outputs": [
    {
     "name": "stdout",
     "output_type": "stream",
     "text": [
      "5145\n"
     ]
    }
   ],
   "source": [
    "with open(\"the-verdict (1).txt\", \"r\", encoding=\"utf-8\") as f:\n",
    "    raw_text = f.read()\n",
    "    \n",
    "enc_text = tokenizer.encode(raw_text) # we tokenize entire verdict text using the BPE tokenizer\n",
    "print(len(enc_text))"
   ]
  },
  {
   "cell_type": "code",
   "execution_count": 46,
   "id": "0b8771c7",
   "metadata": {},
   "outputs": [],
   "source": [
    "#Remove last 50 tokens to make things interesting\n",
    "enc_sample = enc_text[50:]"
   ]
  },
  {
   "cell_type": "code",
   "execution_count": 50,
   "id": "574fa43f",
   "metadata": {},
   "outputs": [
    {
     "name": "stdout",
     "output_type": "stream",
     "text": [
      "x: [290, 4920, 2241, 287]\n",
      "y:      [4920, 2241, 287, 257]\n"
     ]
    }
   ],
   "source": [
    "context_size = 4\n",
    "\n",
    "x = enc_sample[:context_size] #takes first 4 elements\n",
    "y = enc_sample[1: context_size+1]\n",
    "\n",
    "print(f\"x: {x}\")\n",
    "print(f\"y:      {y}\" )"
   ]
  },
  {
   "cell_type": "code",
   "execution_count": 51,
   "id": "2b1cacc5",
   "metadata": {},
   "outputs": [
    {
     "name": "stdout",
     "output_type": "stream",
     "text": [
      "[290] ---> 4920\n",
      "[290, 4920] ---> 2241\n",
      "[290, 4920, 2241] ---> 287\n",
      "[290, 4920, 2241, 287] ---> 257\n"
     ]
    }
   ],
   "source": [
    "#to show how these are as input-target pairs\n",
    "\n",
    "for i in range(1,context_size+1):\n",
    "    context = enc_sample[:i]\n",
    "    desired = enc_sample[i]\n",
    "    \n",
    "    print(context, \"--->\", desired)"
   ]
  },
  {
   "cell_type": "code",
   "execution_count": 52,
   "id": "74cad099",
   "metadata": {},
   "outputs": [
    {
     "name": "stdout",
     "output_type": "stream",
     "text": [
      " and --->  established\n",
      " and established --->  himself\n",
      " and established himself --->  in\n",
      " and established himself in --->  a\n"
     ]
    }
   ],
   "source": [
    "for i in range(1,context_size+1):\n",
    "    context = enc_sample[:i]\n",
    "    desired = enc_sample[i]\n",
    "    \n",
    "    print(tokenizer.decode(context), \"--->\", tokenizer.decode([desired]))"
   ]
  },
  {
   "cell_type": "markdown",
   "id": "f0915a24",
   "metadata": {},
   "source": [
    "## Implementing a Data Loader "
   ]
  },
  {
   "cell_type": "code",
   "execution_count": 54,
   "id": "fcc8cb89",
   "metadata": {},
   "outputs": [
    {
     "name": "stdout",
     "output_type": "stream",
     "text": [
      "Collecting torch\n",
      "  Downloading torch-2.7.0-cp311-cp311-win_amd64.whl.metadata (29 kB)\n",
      "Requirement already satisfied: filelock in c:\\users\\iammo\\anaconda3\\lib\\site-packages (from torch) (3.13.1)\n",
      "Collecting typing-extensions>=4.10.0 (from torch)\n",
      "  Downloading typing_extensions-4.13.2-py3-none-any.whl.metadata (3.0 kB)\n",
      "Collecting sympy>=1.13.3 (from torch)\n",
      "  Downloading sympy-1.14.0-py3-none-any.whl.metadata (12 kB)\n",
      "Requirement already satisfied: networkx in c:\\users\\iammo\\anaconda3\\lib\\site-packages (from torch) (3.1)\n",
      "Requirement already satisfied: jinja2 in c:\\users\\iammo\\anaconda3\\lib\\site-packages (from torch) (3.1.3)\n",
      "Requirement already satisfied: fsspec in c:\\users\\iammo\\anaconda3\\lib\\site-packages (from torch) (2023.10.0)\n",
      "Requirement already satisfied: mpmath<1.4,>=1.1.0 in c:\\users\\iammo\\anaconda3\\lib\\site-packages (from sympy>=1.13.3->torch) (1.3.0)\n",
      "Requirement already satisfied: MarkupSafe>=2.0 in c:\\users\\iammo\\anaconda3\\lib\\site-packages (from jinja2->torch) (2.1.3)\n",
      "Downloading torch-2.7.0-cp311-cp311-win_amd64.whl (212.5 MB)\n",
      "   ---------------------------------------- 0.0/212.5 MB ? eta -:--:--\n",
      "   ---------------------------------------- 1.0/212.5 MB 31.1 MB/s eta 0:00:07\n",
      "   ---------------------------------------- 2.0/212.5 MB 21.4 MB/s eta 0:00:10\n",
      "    --------------------------------------- 4.0/212.5 MB 25.3 MB/s eta 0:00:09\n",
      "   - -------------------------------------- 5.9/212.5 MB 29.2 MB/s eta 0:00:08\n",
      "   - -------------------------------------- 7.6/212.5 MB 30.2 MB/s eta 0:00:07\n",
      "   - -------------------------------------- 8.8/212.5 MB 31.1 MB/s eta 0:00:07\n",
      "   -- ------------------------------------- 11.2/212.5 MB 31.2 MB/s eta 0:00:07\n",
      "   -- ------------------------------------- 13.1/212.5 MB 38.6 MB/s eta 0:00:06\n",
      "   -- ------------------------------------- 15.2/212.5 MB 38.6 MB/s eta 0:00:06\n",
      "   --- ------------------------------------ 17.2/212.5 MB 38.5 MB/s eta 0:00:06\n",
      "   --- ------------------------------------ 19.6/212.5 MB 43.5 MB/s eta 0:00:05\n",
      "   --- ------------------------------------ 20.7/212.5 MB 40.9 MB/s eta 0:00:05\n",
      "   ---- ----------------------------------- 23.0/212.5 MB 43.5 MB/s eta 0:00:05\n",
      "   ---- ----------------------------------- 24.7/212.5 MB 40.9 MB/s eta 0:00:05\n",
      "   ---- ----------------------------------- 25.9/212.5 MB 43.5 MB/s eta 0:00:05\n",
      "   ----- ---------------------------------- 27.0/212.5 MB 36.3 MB/s eta 0:00:06\n",
      "   ----- ---------------------------------- 27.5/212.5 MB 32.8 MB/s eta 0:00:06\n",
      "   ----- ---------------------------------- 29.4/212.5 MB 31.2 MB/s eta 0:00:06\n",
      "   ----- ---------------------------------- 30.5/212.5 MB 32.8 MB/s eta 0:00:06\n",
      "   ----- ---------------------------------- 31.7/212.5 MB 29.7 MB/s eta 0:00:07\n",
      "   ------ --------------------------------- 32.6/212.5 MB 27.3 MB/s eta 0:00:07\n",
      "   ------ --------------------------------- 33.5/212.5 MB 25.1 MB/s eta 0:00:08\n",
      "   ------ --------------------------------- 34.5/212.5 MB 23.4 MB/s eta 0:00:08\n",
      "   ------ --------------------------------- 35.2/212.5 MB 23.4 MB/s eta 0:00:08\n",
      "   ------ --------------------------------- 35.8/212.5 MB 21.1 MB/s eta 0:00:09\n",
      "   ------ --------------------------------- 36.2/212.5 MB 21.1 MB/s eta 0:00:09\n",
      "   ------ --------------------------------- 36.7/212.5 MB 19.9 MB/s eta 0:00:09\n",
      "   ------ --------------------------------- 36.7/212.5 MB 19.9 MB/s eta 0:00:09\n",
      "   ------ --------------------------------- 37.0/212.5 MB 16.8 MB/s eta 0:00:11\n",
      "   ------- -------------------------------- 37.5/212.5 MB 16.4 MB/s eta 0:00:11\n",
      "   ------- -------------------------------- 38.1/212.5 MB 16.0 MB/s eta 0:00:11\n",
      "   ------- -------------------------------- 38.5/212.5 MB 15.2 MB/s eta 0:00:12\n",
      "   ------- -------------------------------- 39.1/212.5 MB 14.2 MB/s eta 0:00:13\n",
      "   ------- -------------------------------- 39.5/212.5 MB 13.6 MB/s eta 0:00:13\n",
      "   ------- -------------------------------- 40.0/212.5 MB 13.1 MB/s eta 0:00:14\n",
      "   ------- -------------------------------- 40.5/212.5 MB 12.4 MB/s eta 0:00:14\n",
      "   ------- -------------------------------- 41.1/212.5 MB 12.1 MB/s eta 0:00:15\n",
      "   ------- -------------------------------- 41.5/212.5 MB 11.7 MB/s eta 0:00:15\n",
      "   ------- -------------------------------- 42.0/212.5 MB 11.5 MB/s eta 0:00:15\n",
      "   ------- -------------------------------- 42.4/212.5 MB 11.1 MB/s eta 0:00:16\n",
      "   -------- ------------------------------- 42.7/212.5 MB 10.9 MB/s eta 0:00:16\n",
      "   -------- ------------------------------- 43.2/212.5 MB 10.7 MB/s eta 0:00:16\n",
      "   -------- ------------------------------- 43.7/212.5 MB 10.2 MB/s eta 0:00:17\n",
      "   -------- ------------------------------- 44.1/212.5 MB 9.9 MB/s eta 0:00:17\n",
      "   -------- ------------------------------- 44.6/212.5 MB 9.8 MB/s eta 0:00:18\n",
      "   -------- ------------------------------- 45.0/212.5 MB 9.5 MB/s eta 0:00:18\n",
      "   -------- ------------------------------- 45.3/212.5 MB 9.5 MB/s eta 0:00:18\n",
      "   -------- ------------------------------- 45.8/212.5 MB 9.2 MB/s eta 0:00:19\n",
      "   -------- ------------------------------- 46.0/212.5 MB 9.1 MB/s eta 0:00:19\n",
      "   -------- ------------------------------- 46.2/212.5 MB 8.8 MB/s eta 0:00:19\n",
      "   -------- ------------------------------- 46.2/212.5 MB 8.8 MB/s eta 0:00:19\n",
      "   -------- ------------------------------- 46.2/212.5 MB 8.8 MB/s eta 0:00:19\n",
      "   -------- ------------------------------- 46.2/212.5 MB 8.8 MB/s eta 0:00:19\n",
      "   -------- ------------------------------- 46.2/212.5 MB 8.8 MB/s eta 0:00:19\n",
      "   -------- ------------------------------- 46.2/212.5 MB 8.8 MB/s eta 0:00:19\n",
      "   -------- ------------------------------- 46.2/212.5 MB 8.8 MB/s eta 0:00:19\n",
      "   -------- ------------------------------- 47.1/212.5 MB 7.6 MB/s eta 0:00:22\n",
      "   --------- ------------------------------ 48.8/212.5 MB 8.4 MB/s eta 0:00:20\n",
      "   --------- ------------------------------ 50.8/212.5 MB 9.5 MB/s eta 0:00:18\n",
      "   ---------- ----------------------------- 53.3/212.5 MB 11.7 MB/s eta 0:00:14\n",
      "   ---------- ----------------------------- 55.2/212.5 MB 13.6 MB/s eta 0:00:12\n",
      "   ---------- ----------------------------- 56.3/212.5 MB 17.2 MB/s eta 0:00:10\n",
      "   ---------- ----------------------------- 56.5/212.5 MB 31.2 MB/s eta 0:00:06\n",
      "   ---------- ----------------------------- 56.8/212.5 MB 28.5 MB/s eta 0:00:06\n",
      "   ---------- ----------------------------- 57.1/212.5 MB 26.2 MB/s eta 0:00:06\n",
      "   ---------- ----------------------------- 57.3/212.5 MB 25.2 MB/s eta 0:00:07\n",
      "   ---------- ----------------------------- 57.7/212.5 MB 21.8 MB/s eta 0:00:08\n",
      "   ---------- ----------------------------- 58.0/212.5 MB 20.5 MB/s eta 0:00:08\n",
      "   ---------- ----------------------------- 58.1/212.5 MB 19.2 MB/s eta 0:00:09\n",
      "   ---------- ----------------------------- 58.4/212.5 MB 17.7 MB/s eta 0:00:09\n",
      "   ----------- ---------------------------- 58.7/212.5 MB 16.8 MB/s eta 0:00:10\n",
      "   ----------- ---------------------------- 59.0/212.5 MB 15.2 MB/s eta 0:00:11\n",
      "   ----------- ---------------------------- 59.3/212.5 MB 14.6 MB/s eta 0:00:11\n",
      "   ----------- ---------------------------- 59.6/212.5 MB 13.9 MB/s eta 0:00:11\n",
      "   ----------- ---------------------------- 59.8/212.5 MB 13.4 MB/s eta 0:00:12\n",
      "   ----------- ---------------------------- 60.1/212.5 MB 12.8 MB/s eta 0:00:12\n",
      "   ----------- ---------------------------- 60.4/212.5 MB 11.9 MB/s eta 0:00:13\n",
      "   ----------- ---------------------------- 60.7/212.5 MB 11.5 MB/s eta 0:00:14\n",
      "   ----------- ---------------------------- 61.0/212.5 MB 10.9 MB/s eta 0:00:14\n",
      "   ----------- ---------------------------- 61.4/212.5 MB 10.4 MB/s eta 0:00:15\n",
      "   ----------- ---------------------------- 61.5/212.5 MB 10.1 MB/s eta 0:00:15\n",
      "   ----------- ---------------------------- 61.8/212.5 MB 9.6 MB/s eta 0:00:16\n",
      "   ----------- ---------------------------- 62.0/212.5 MB 9.4 MB/s eta 0:00:17\n",
      "   ----------- ---------------------------- 62.3/212.5 MB 8.8 MB/s eta 0:00:17\n",
      "   ----------- ---------------------------- 62.5/212.5 MB 8.7 MB/s eta 0:00:18\n",
      "   ----------- ---------------------------- 62.8/212.5 MB 8.4 MB/s eta 0:00:18\n",
      "   ----------- ---------------------------- 63.0/212.5 MB 8.3 MB/s eta 0:00:19\n",
      "   ----------- ---------------------------- 63.3/212.5 MB 8.0 MB/s eta 0:00:19\n",
      "   ----------- ---------------------------- 63.5/212.5 MB 7.8 MB/s eta 0:00:20\n",
      "   ----------- ---------------------------- 63.7/212.5 MB 7.7 MB/s eta 0:00:20\n",
      "   ------------ --------------------------- 64.0/212.5 MB 7.2 MB/s eta 0:00:21\n",
      "   ------------ --------------------------- 64.2/212.5 MB 7.2 MB/s eta 0:00:21\n",
      "   ------------ --------------------------- 64.3/212.5 MB 6.9 MB/s eta 0:00:22\n",
      "   ------------ --------------------------- 64.6/212.5 MB 6.8 MB/s eta 0:00:22\n",
      "   ------------ --------------------------- 64.8/212.5 MB 6.5 MB/s eta 0:00:23\n",
      "   ------------ --------------------------- 65.1/212.5 MB 6.4 MB/s eta 0:00:24\n",
      "   ------------ --------------------------- 65.2/212.5 MB 6.2 MB/s eta 0:00:24\n",
      "   ------------ --------------------------- 65.5/212.5 MB 6.0 MB/s eta 0:00:25\n",
      "   ------------ --------------------------- 65.7/212.5 MB 5.8 MB/s eta 0:00:26\n",
      "   ------------ --------------------------- 65.9/212.5 MB 5.7 MB/s eta 0:00:26\n",
      "   ------------ --------------------------- 66.1/212.5 MB 5.6 MB/s eta 0:00:26\n",
      "   ------------ --------------------------- 66.3/212.5 MB 5.5 MB/s eta 0:00:27\n",
      "   ------------ --------------------------- 66.4/212.5 MB 5.4 MB/s eta 0:00:28\n",
      "   ------------ --------------------------- 66.7/212.5 MB 5.4 MB/s eta 0:00:28\n",
      "   ------------ --------------------------- 66.9/212.5 MB 5.2 MB/s eta 0:00:28\n",
      "   ------------ --------------------------- 67.1/212.5 MB 5.3 MB/s eta 0:00:28\n",
      "   ------------ --------------------------- 67.3/212.5 MB 5.2 MB/s eta 0:00:28\n",
      "   ------------ --------------------------- 67.6/212.5 MB 5.2 MB/s eta 0:00:28\n",
      "   ------------ --------------------------- 67.7/212.5 MB 5.2 MB/s eta 0:00:29\n",
      "   ------------ --------------------------- 68.0/212.5 MB 5.1 MB/s eta 0:00:29\n",
      "   ------------ --------------------------- 68.2/212.5 MB 5.1 MB/s eta 0:00:29\n",
      "   ------------ --------------------------- 68.3/212.5 MB 5.1 MB/s eta 0:00:29\n",
      "   ------------ --------------------------- 68.6/212.5 MB 5.1 MB/s eta 0:00:29\n",
      "   ------------ --------------------------- 68.8/212.5 MB 5.1 MB/s eta 0:00:29\n",
      "   ------------ --------------------------- 69.0/212.5 MB 5.0 MB/s eta 0:00:29\n",
      "   ------------- -------------------------- 69.2/212.5 MB 5.0 MB/s eta 0:00:29\n",
      "   ------------- -------------------------- 69.5/212.5 MB 5.0 MB/s eta 0:00:29\n",
      "   ------------- -------------------------- 69.7/212.5 MB 4.9 MB/s eta 0:00:30\n",
      "   ------------- -------------------------- 69.8/212.5 MB 4.9 MB/s eta 0:00:30\n",
      "   ------------- -------------------------- 70.2/212.5 MB 4.9 MB/s eta 0:00:29\n",
      "   ------------- -------------------------- 70.3/212.5 MB 4.9 MB/s eta 0:00:30\n",
      "   ------------- -------------------------- 70.6/212.5 MB 4.8 MB/s eta 0:00:30\n",
      "   ------------- -------------------------- 70.8/212.5 MB 4.8 MB/s eta 0:00:30\n",
      "   ------------- -------------------------- 70.9/212.5 MB 4.8 MB/s eta 0:00:30\n",
      "   ------------- -------------------------- 71.2/212.5 MB 4.8 MB/s eta 0:00:30\n",
      "   ------------- -------------------------- 71.4/212.5 MB 4.7 MB/s eta 0:00:30\n",
      "   ------------- -------------------------- 71.7/212.5 MB 4.7 MB/s eta 0:00:30\n",
      "   ------------- -------------------------- 71.9/212.5 MB 4.7 MB/s eta 0:00:30\n",
      "   ------------- -------------------------- 72.0/212.5 MB 4.7 MB/s eta 0:00:31\n",
      "   ------------- -------------------------- 72.2/212.5 MB 4.7 MB/s eta 0:00:30\n",
      "   ------------- -------------------------- 72.5/212.5 MB 4.7 MB/s eta 0:00:30\n",
      "   ------------- -------------------------- 72.7/212.5 MB 4.6 MB/s eta 0:00:31\n",
      "   ------------- -------------------------- 73.0/212.5 MB 4.6 MB/s eta 0:00:31\n",
      "   ------------- -------------------------- 73.2/212.5 MB 4.6 MB/s eta 0:00:31\n",
      "   ------------- -------------------------- 73.4/212.5 MB 4.6 MB/s eta 0:00:30\n",
      "   ------------- -------------------------- 73.7/212.5 MB 4.6 MB/s eta 0:00:31\n",
      "   ------------- -------------------------- 73.9/212.5 MB 4.6 MB/s eta 0:00:31\n",
      "   ------------- -------------------------- 74.1/212.5 MB 4.6 MB/s eta 0:00:31\n",
      "   ------------- -------------------------- 74.4/212.5 MB 4.6 MB/s eta 0:00:30\n",
      "   -------------- ------------------------- 74.5/212.5 MB 4.6 MB/s eta 0:00:31\n",
      "   -------------- ------------------------- 74.9/212.5 MB 4.6 MB/s eta 0:00:30\n",
      "   -------------- ------------------------- 75.1/212.5 MB 4.6 MB/s eta 0:00:30\n",
      "   -------------- ------------------------- 75.4/212.5 MB 4.7 MB/s eta 0:00:30\n",
      "   -------------- ------------------------- 75.6/212.5 MB 4.7 MB/s eta 0:00:29\n",
      "   -------------- ------------------------- 75.8/212.5 MB 4.8 MB/s eta 0:00:29\n",
      "   -------------- ------------------------- 76.0/212.5 MB 4.7 MB/s eta 0:00:29\n",
      "   -------------- ------------------------- 76.1/212.5 MB 4.7 MB/s eta 0:00:29\n",
      "   -------------- ------------------------- 76.4/212.5 MB 4.7 MB/s eta 0:00:29\n",
      "   -------------- ------------------------- 76.5/212.5 MB 4.7 MB/s eta 0:00:29\n",
      "   -------------- ------------------------- 76.7/212.5 MB 4.7 MB/s eta 0:00:29\n",
      "   -------------- ------------------------- 76.9/212.5 MB 4.6 MB/s eta 0:00:30\n",
      "   -------------- ------------------------- 77.1/212.5 MB 4.6 MB/s eta 0:00:30\n",
      "   -------------- ------------------------- 77.2/212.5 MB 4.7 MB/s eta 0:00:29\n",
      "   -------------- ------------------------- 77.5/212.5 MB 4.6 MB/s eta 0:00:30\n",
      "   -------------- ------------------------- 77.6/212.5 MB 4.6 MB/s eta 0:00:30\n",
      "   -------------- ------------------------- 77.8/212.5 MB 4.6 MB/s eta 0:00:30\n",
      "   -------------- ------------------------- 77.9/212.5 MB 4.6 MB/s eta 0:00:30\n",
      "   -------------- ------------------------- 77.9/212.5 MB 4.6 MB/s eta 0:00:30\n",
      "   -------------- ------------------------- 78.0/212.5 MB 4.5 MB/s eta 0:00:31\n",
      "   -------------- ------------------------- 78.0/212.5 MB 4.5 MB/s eta 0:00:31\n",
      "   -------------- ------------------------- 78.0/212.5 MB 4.5 MB/s eta 0:00:31\n",
      "   -------------- ------------------------- 78.0/212.5 MB 4.5 MB/s eta 0:00:31\n",
      "   -------------- ------------------------- 78.0/212.5 MB 4.5 MB/s eta 0:00:31\n",
      "   -------------- ------------------------- 78.0/212.5 MB 4.5 MB/s eta 0:00:31\n",
      "   -------------- ------------------------- 78.0/212.5 MB 4.5 MB/s eta 0:00:31\n",
      "   -------------- ------------------------- 78.0/212.5 MB 4.5 MB/s eta 0:00:31\n",
      "   -------------- ------------------------- 78.3/212.5 MB 4.0 MB/s eta 0:00:34\n",
      "   -------------- ------------------------- 78.4/212.5 MB 4.0 MB/s eta 0:00:34\n",
      "   -------------- ------------------------- 78.8/212.5 MB 3.9 MB/s eta 0:00:34\n",
      "   -------------- ------------------------- 79.0/212.5 MB 3.9 MB/s eta 0:00:34\n",
      "   -------------- ------------------------- 79.2/212.5 MB 3.9 MB/s eta 0:00:34\n",
      "   -------------- ------------------------- 79.3/212.5 MB 4.0 MB/s eta 0:00:34\n",
      "   -------------- ------------------------- 79.5/212.5 MB 4.0 MB/s eta 0:00:34\n",
      "   --------------- ------------------------ 79.8/212.5 MB 3.9 MB/s eta 0:00:34\n",
      "   --------------- ------------------------ 79.9/212.5 MB 3.9 MB/s eta 0:00:34\n",
      "   --------------- ------------------------ 80.1/212.5 MB 3.9 MB/s eta 0:00:34\n",
      "   --------------- ------------------------ 80.4/212.5 MB 3.9 MB/s eta 0:00:34\n",
      "   --------------- ------------------------ 80.5/212.5 MB 4.0 MB/s eta 0:00:34\n",
      "   --------------- ------------------------ 80.9/212.5 MB 3.9 MB/s eta 0:00:34\n",
      "   --------------- ------------------------ 81.0/212.5 MB 3.9 MB/s eta 0:00:34\n",
      "   --------------- ------------------------ 81.2/212.5 MB 3.9 MB/s eta 0:00:34\n",
      "   --------------- ------------------------ 81.5/212.5 MB 3.9 MB/s eta 0:00:34\n",
      "   --------------- ------------------------ 81.7/212.5 MB 4.0 MB/s eta 0:00:33\n",
      "   --------------- ------------------------ 81.8/212.5 MB 3.9 MB/s eta 0:00:34\n",
      "   --------------- ------------------------ 82.1/212.5 MB 3.9 MB/s eta 0:00:34\n",
      "   --------------- ------------------------ 82.3/212.5 MB 3.9 MB/s eta 0:00:34\n",
      "   --------------- ------------------------ 82.5/212.5 MB 4.0 MB/s eta 0:00:33\n",
      "   --------------- ------------------------ 82.8/212.5 MB 3.9 MB/s eta 0:00:33\n",
      "   --------------- ------------------------ 83.0/212.5 MB 3.9 MB/s eta 0:00:33\n",
      "   --------------- ------------------------ 83.2/212.5 MB 3.9 MB/s eta 0:00:34\n",
      "   --------------- ------------------------ 83.5/212.5 MB 3.9 MB/s eta 0:00:33\n",
      "   --------------- ------------------------ 83.7/212.5 MB 4.0 MB/s eta 0:00:33\n",
      "   --------------- ------------------------ 83.8/212.5 MB 4.0 MB/s eta 0:00:33\n",
      "   --------------- ------------------------ 84.1/212.5 MB 3.9 MB/s eta 0:00:33\n",
      "   --------------- ------------------------ 84.2/212.5 MB 3.9 MB/s eta 0:00:33\n",
      "   --------------- ------------------------ 84.5/212.5 MB 3.9 MB/s eta 0:00:33\n",
      "   --------------- ------------------------ 84.6/212.5 MB 3.9 MB/s eta 0:00:34\n",
      "   --------------- ------------------------ 84.8/212.5 MB 3.9 MB/s eta 0:00:33\n",
      "   --------------- ------------------------ 85.0/212.5 MB 3.9 MB/s eta 0:00:33\n",
      "   ---------------- ----------------------- 85.0/212.5 MB 3.8 MB/s eta 0:00:34\n",
      "   ---------------- ----------------------- 85.0/212.5 MB 3.8 MB/s eta 0:00:34\n",
      "   ---------------- ----------------------- 85.0/212.5 MB 3.8 MB/s eta 0:00:34\n",
      "   ---------------- ----------------------- 85.0/212.5 MB 3.8 MB/s eta 0:00:34\n",
      "   ---------------- ----------------------- 85.0/212.5 MB 3.8 MB/s eta 0:00:34\n",
      "   ---------------- ----------------------- 85.0/212.5 MB 3.8 MB/s eta 0:00:34\n",
      "   ---------------- ----------------------- 85.0/212.5 MB 3.8 MB/s eta 0:00:34\n",
      "   ---------------- ----------------------- 86.4/212.5 MB 3.7 MB/s eta 0:00:34\n",
      "   ---------------- ----------------------- 88.0/212.5 MB 4.3 MB/s eta 0:00:29\n",
      "   ---------------- ----------------------- 88.2/212.5 MB 4.5 MB/s eta 0:00:28\n",
      "   ---------------- ----------------------- 88.3/212.5 MB 5.1 MB/s eta 0:00:25\n",
      "   ---------------- ----------------------- 88.6/212.5 MB 5.1 MB/s eta 0:00:25\n",
      "   ---------------- ----------------------- 88.8/212.5 MB 5.1 MB/s eta 0:00:25\n",
      "   ---------------- ----------------------- 89.0/212.5 MB 5.1 MB/s eta 0:00:25\n",
      "   ---------------- ----------------------- 89.2/212.5 MB 5.1 MB/s eta 0:00:25\n",
      "   ---------------- ----------------------- 89.4/212.5 MB 5.0 MB/s eta 0:00:25\n",
      "   ---------------- ----------------------- 89.7/212.5 MB 5.1 MB/s eta 0:00:25\n",
      "   ---------------- ----------------------- 89.8/212.5 MB 5.1 MB/s eta 0:00:24\n",
      "   ---------------- ----------------------- 90.1/212.5 MB 5.1 MB/s eta 0:00:24\n",
      "   ---------------- ----------------------- 90.3/212.5 MB 5.1 MB/s eta 0:00:24\n",
      "   ----------------- ---------------------- 90.4/212.5 MB 5.1 MB/s eta 0:00:24\n",
      "   ----------------- ---------------------- 90.7/212.5 MB 5.1 MB/s eta 0:00:24\n",
      "   ----------------- ---------------------- 90.9/212.5 MB 5.1 MB/s eta 0:00:24\n",
      "   ----------------- ---------------------- 91.2/212.5 MB 5.1 MB/s eta 0:00:24\n",
      "   ----------------- ---------------------- 91.4/212.5 MB 5.1 MB/s eta 0:00:24\n",
      "   ----------------- ---------------------- 91.5/212.5 MB 5.1 MB/s eta 0:00:24\n",
      "   ----------------- ---------------------- 91.8/212.5 MB 5.1 MB/s eta 0:00:24\n",
      "   ----------------- ---------------------- 92.0/212.5 MB 5.1 MB/s eta 0:00:24\n",
      "   ----------------- ---------------------- 92.2/212.5 MB 5.0 MB/s eta 0:00:24\n",
      "   ----------------- ---------------------- 92.5/212.5 MB 5.1 MB/s eta 0:00:24\n",
      "   ----------------- ---------------------- 92.7/212.5 MB 5.1 MB/s eta 0:00:24\n",
      "   ----------------- ---------------------- 92.8/212.5 MB 5.1 MB/s eta 0:00:24\n",
      "   ----------------- ---------------------- 93.1/212.5 MB 5.1 MB/s eta 0:00:24\n",
      "   ----------------- ---------------------- 93.3/212.5 MB 5.0 MB/s eta 0:00:24\n",
      "   ----------------- ---------------------- 93.4/212.5 MB 5.0 MB/s eta 0:00:24\n",
      "   ----------------- ---------------------- 93.7/212.5 MB 4.9 MB/s eta 0:00:25\n",
      "   ----------------- ---------------------- 93.8/212.5 MB 4.9 MB/s eta 0:00:25\n",
      "   ----------------- ---------------------- 93.9/212.5 MB 4.8 MB/s eta 0:00:25\n",
      "   ----------------- ---------------------- 94.2/212.5 MB 4.9 MB/s eta 0:00:25\n",
      "   ----------------- ---------------------- 94.3/212.5 MB 4.8 MB/s eta 0:00:25\n",
      "   ----------------- ---------------------- 94.4/212.5 MB 4.8 MB/s eta 0:00:25\n",
      "   ----------------- ---------------------- 94.6/212.5 MB 4.8 MB/s eta 0:00:25\n",
      "   ----------------- ---------------------- 94.8/212.5 MB 4.9 MB/s eta 0:00:25\n",
      "   ----------------- ---------------------- 94.9/212.5 MB 4.9 MB/s eta 0:00:25\n",
      "   ----------------- ---------------------- 95.1/212.5 MB 4.8 MB/s eta 0:00:25\n",
      "   ----------------- ---------------------- 95.3/212.5 MB 5.7 MB/s eta 0:00:21\n",
      "   ----------------- ---------------------- 95.5/212.5 MB 5.5 MB/s eta 0:00:22\n",
      "   ------------------ --------------------- 95.7/212.5 MB 5.4 MB/s eta 0:00:22\n",
      "   ------------------ --------------------- 96.0/212.5 MB 5.3 MB/s eta 0:00:23\n",
      "   ------------------ --------------------- 96.1/212.5 MB 5.2 MB/s eta 0:00:23\n",
      "   ------------------ --------------------- 96.3/212.5 MB 5.2 MB/s eta 0:00:23\n",
      "   ------------------ --------------------- 96.6/212.5 MB 5.0 MB/s eta 0:00:24\n",
      "   ------------------ --------------------- 96.7/212.5 MB 4.9 MB/s eta 0:00:24\n",
      "   ------------------ --------------------- 96.9/212.5 MB 4.8 MB/s eta 0:00:25\n",
      "   ------------------ --------------------- 97.1/212.5 MB 4.7 MB/s eta 0:00:25\n",
      "   ------------------ --------------------- 97.3/212.5 MB 4.6 MB/s eta 0:00:25\n",
      "   ------------------ --------------------- 97.6/212.5 MB 4.5 MB/s eta 0:00:26\n",
      "   ------------------ --------------------- 97.7/212.5 MB 4.5 MB/s eta 0:00:26\n",
      "   ------------------ --------------------- 97.9/212.5 MB 4.4 MB/s eta 0:00:27\n",
      "   ------------------ --------------------- 98.1/212.5 MB 4.3 MB/s eta 0:00:27\n",
      "   ------------------ --------------------- 98.3/212.5 MB 4.3 MB/s eta 0:00:27\n",
      "   ------------------ --------------------- 98.6/212.5 MB 4.3 MB/s eta 0:00:27\n",
      "   ------------------ --------------------- 98.7/212.5 MB 4.3 MB/s eta 0:00:27\n",
      "   ------------------ --------------------- 99.0/212.5 MB 4.3 MB/s eta 0:00:27\n",
      "   ------------------ --------------------- 99.2/212.5 MB 4.3 MB/s eta 0:00:27\n",
      "   ------------------ --------------------- 99.3/212.5 MB 4.3 MB/s eta 0:00:27\n",
      "   ------------------ --------------------- 99.6/212.5 MB 4.3 MB/s eta 0:00:27\n",
      "   ------------------ --------------------- 99.9/212.5 MB 4.2 MB/s eta 0:00:27\n",
      "   ------------------ --------------------- 100.1/212.5 MB 4.3 MB/s eta 0:00:27\n",
      "   ------------------ --------------------- 100.2/212.5 MB 4.3 MB/s eta 0:00:27\n",
      "   ------------------ --------------------- 100.6/212.5 MB 4.3 MB/s eta 0:00:27\n",
      "   ------------------ --------------------- 100.7/212.5 MB 4.3 MB/s eta 0:00:26\n",
      "   ------------------- -------------------- 101.0/212.5 MB 4.3 MB/s eta 0:00:26\n",
      "   ------------------- -------------------- 101.2/212.5 MB 4.3 MB/s eta 0:00:26\n",
      "   ------------------- -------------------- 101.3/212.5 MB 4.3 MB/s eta 0:00:26\n",
      "   ------------------- -------------------- 101.7/212.5 MB 4.3 MB/s eta 0:00:26\n",
      "   ------------------- -------------------- 101.8/212.5 MB 4.3 MB/s eta 0:00:26\n",
      "   ------------------- -------------------- 102.1/212.5 MB 4.3 MB/s eta 0:00:26\n",
      "   ------------------- -------------------- 102.3/212.5 MB 4.3 MB/s eta 0:00:26\n",
      "   ------------------- -------------------- 102.5/212.5 MB 4.3 MB/s eta 0:00:26\n",
      "   ------------------- -------------------- 102.8/212.5 MB 4.3 MB/s eta 0:00:26\n",
      "   ------------------- -------------------- 102.9/212.5 MB 4.3 MB/s eta 0:00:26\n",
      "   ------------------- -------------------- 103.1/212.5 MB 4.4 MB/s eta 0:00:26\n",
      "   ------------------- -------------------- 103.4/212.5 MB 4.4 MB/s eta 0:00:25\n",
      "   ------------------- -------------------- 103.6/212.5 MB 4.4 MB/s eta 0:00:25\n",
      "   ------------------- -------------------- 103.9/212.5 MB 4.5 MB/s eta 0:00:25\n",
      "   ------------------- -------------------- 104.1/212.5 MB 4.4 MB/s eta 0:00:25\n",
      "   ------------------- -------------------- 104.3/212.5 MB 4.5 MB/s eta 0:00:25\n",
      "   ------------------- -------------------- 104.4/212.5 MB 4.5 MB/s eta 0:00:25\n",
      "   ------------------- -------------------- 104.5/212.5 MB 4.4 MB/s eta 0:00:25\n",
      "   ------------------- -------------------- 104.6/212.5 MB 4.4 MB/s eta 0:00:25\n",
      "   ------------------- -------------------- 104.8/212.5 MB 4.4 MB/s eta 0:00:25\n",
      "   ------------------- -------------------- 105.1/212.5 MB 4.4 MB/s eta 0:00:25\n",
      "   ------------------- -------------------- 105.3/212.5 MB 4.5 MB/s eta 0:00:24\n",
      "   ------------------- -------------------- 105.5/212.5 MB 4.5 MB/s eta 0:00:24\n",
      "   ------------------- -------------------- 105.7/212.5 MB 4.5 MB/s eta 0:00:24\n",
      "   ------------------- -------------------- 106.1/212.5 MB 4.5 MB/s eta 0:00:24\n",
      "   ------------------- -------------------- 106.3/212.5 MB 4.6 MB/s eta 0:00:24\n",
      "   -------------------- ------------------- 106.4/212.5 MB 4.6 MB/s eta 0:00:24\n",
      "   -------------------- ------------------- 106.8/212.5 MB 4.6 MB/s eta 0:00:23\n",
      "   -------------------- ------------------- 106.9/212.5 MB 4.7 MB/s eta 0:00:23\n",
      "   -------------------- ------------------- 107.2/212.5 MB 4.6 MB/s eta 0:00:23\n",
      "   -------------------- ------------------- 107.5/212.5 MB 4.7 MB/s eta 0:00:23\n",
      "   -------------------- ------------------- 107.7/212.5 MB 4.7 MB/s eta 0:00:23\n",
      "   -------------------- ------------------- 108.1/212.5 MB 4.7 MB/s eta 0:00:23\n",
      "   -------------------- ------------------- 108.2/212.5 MB 4.7 MB/s eta 0:00:22\n",
      "   -------------------- ------------------- 108.6/212.5 MB 4.9 MB/s eta 0:00:22\n",
      "   -------------------- ------------------- 108.6/212.5 MB 4.9 MB/s eta 0:00:22\n",
      "   -------------------- ------------------- 109.0/212.5 MB 4.9 MB/s eta 0:00:22\n",
      "   -------------------- ------------------- 109.1/212.5 MB 4.8 MB/s eta 0:00:22\n",
      "   -------------------- ------------------- 109.3/212.5 MB 4.8 MB/s eta 0:00:22\n",
      "   -------------------- ------------------- 109.4/212.5 MB 4.7 MB/s eta 0:00:22\n",
      "   -------------------- ------------------- 109.6/212.5 MB 4.7 MB/s eta 0:00:22\n",
      "   -------------------- ------------------- 109.8/212.5 MB 4.8 MB/s eta 0:00:22\n",
      "   -------------------- ------------------- 110.0/212.5 MB 4.8 MB/s eta 0:00:22\n",
      "   -------------------- ------------------- 110.1/212.5 MB 4.7 MB/s eta 0:00:22\n",
      "   -------------------- ------------------- 110.4/212.5 MB 4.7 MB/s eta 0:00:22\n",
      "   -------------------- ------------------- 110.6/212.5 MB 4.8 MB/s eta 0:00:22\n",
      "   -------------------- ------------------- 110.7/212.5 MB 4.7 MB/s eta 0:00:22\n",
      "   -------------------- ------------------- 111.0/212.5 MB 4.7 MB/s eta 0:00:22\n",
      "   -------------------- ------------------- 111.3/212.5 MB 4.7 MB/s eta 0:00:22\n",
      "   -------------------- ------------------- 111.4/212.5 MB 4.7 MB/s eta 0:00:22\n",
      "   --------------------- ------------------ 111.6/212.5 MB 4.8 MB/s eta 0:00:22\n",
      "   --------------------- ------------------ 111.9/212.5 MB 4.7 MB/s eta 0:00:22\n",
      "   --------------------- ------------------ 112.0/212.5 MB 4.7 MB/s eta 0:00:22\n",
      "   --------------------- ------------------ 112.3/212.5 MB 4.7 MB/s eta 0:00:22\n",
      "   --------------------- ------------------ 112.5/212.5 MB 4.7 MB/s eta 0:00:22\n",
      "   --------------------- ------------------ 112.7/212.5 MB 4.7 MB/s eta 0:00:22\n",
      "   --------------------- ------------------ 113.0/212.5 MB 4.7 MB/s eta 0:00:22\n",
      "   --------------------- ------------------ 113.2/212.5 MB 4.7 MB/s eta 0:00:22\n",
      "   --------------------- ------------------ 113.5/212.5 MB 4.7 MB/s eta 0:00:22\n",
      "   --------------------- ------------------ 113.6/212.5 MB 4.7 MB/s eta 0:00:22\n",
      "   --------------------- ------------------ 113.8/212.5 MB 4.7 MB/s eta 0:00:22\n",
      "   --------------------- ------------------ 114.1/212.5 MB 4.6 MB/s eta 0:00:22\n",
      "   --------------------- ------------------ 114.3/212.5 MB 4.6 MB/s eta 0:00:22\n",
      "   --------------------- ------------------ 114.6/212.5 MB 4.7 MB/s eta 0:00:21\n",
      "   --------------------- ------------------ 114.8/212.5 MB 4.9 MB/s eta 0:00:21\n",
      "   --------------------- ------------------ 115.1/212.5 MB 4.8 MB/s eta 0:00:21\n",
      "   --------------------- ------------------ 115.3/212.5 MB 4.8 MB/s eta 0:00:21\n",
      "   --------------------- ------------------ 115.5/212.5 MB 4.8 MB/s eta 0:00:21\n",
      "   --------------------- ------------------ 115.8/212.5 MB 4.9 MB/s eta 0:00:20\n",
      "   --------------------- ------------------ 116.0/212.5 MB 4.8 MB/s eta 0:00:21\n",
      "   --------------------- ------------------ 116.1/212.5 MB 4.8 MB/s eta 0:00:21\n",
      "   --------------------- ------------------ 116.5/212.5 MB 4.8 MB/s eta 0:00:20\n",
      "   --------------------- ------------------ 116.7/212.5 MB 4.8 MB/s eta 0:00:20\n",
      "   ---------------------- ----------------- 117.0/212.5 MB 4.7 MB/s eta 0:00:21\n",
      "   ---------------------- ----------------- 117.2/212.5 MB 4.7 MB/s eta 0:00:21\n",
      "   ---------------------- ----------------- 117.5/212.5 MB 4.8 MB/s eta 0:00:20\n",
      "   ---------------------- ----------------- 117.7/212.5 MB 4.7 MB/s eta 0:00:20\n",
      "   ---------------------- ----------------- 117.9/212.5 MB 4.7 MB/s eta 0:00:20\n",
      "   ---------------------- ----------------- 118.0/212.5 MB 4.7 MB/s eta 0:00:21\n",
      "   ---------------------- ----------------- 118.1/212.5 MB 4.6 MB/s eta 0:00:21\n",
      "   ---------------------- ----------------- 118.3/212.5 MB 4.6 MB/s eta 0:00:21\n",
      "   ---------------------- ----------------- 118.4/212.5 MB 4.5 MB/s eta 0:00:21\n",
      "   ---------------------- ----------------- 118.5/212.5 MB 4.5 MB/s eta 0:00:21\n",
      "   ---------------------- ----------------- 118.7/212.5 MB 4.5 MB/s eta 0:00:21\n",
      "   ---------------------- ----------------- 118.9/212.5 MB 4.5 MB/s eta 0:00:21\n",
      "   ---------------------- ----------------- 119.0/212.5 MB 4.5 MB/s eta 0:00:21\n",
      "   ---------------------- ----------------- 119.2/212.5 MB 4.4 MB/s eta 0:00:22\n",
      "   ---------------------- ----------------- 119.3/212.5 MB 4.4 MB/s eta 0:00:22\n",
      "   ---------------------- ----------------- 119.4/212.5 MB 4.3 MB/s eta 0:00:22\n",
      "   ---------------------- ----------------- 119.6/212.5 MB 4.4 MB/s eta 0:00:22\n",
      "   ---------------------- ----------------- 119.9/212.5 MB 4.3 MB/s eta 0:00:22\n",
      "   ---------------------- ----------------- 120.0/212.5 MB 4.3 MB/s eta 0:00:22\n",
      "   ---------------------- ----------------- 120.1/212.5 MB 4.3 MB/s eta 0:00:22\n",
      "   ---------------------- ----------------- 120.3/212.5 MB 4.3 MB/s eta 0:00:22\n",
      "   ---------------------- ----------------- 120.4/212.5 MB 4.2 MB/s eta 0:00:22\n",
      "   ---------------------- ----------------- 120.5/212.5 MB 4.2 MB/s eta 0:00:22\n",
      "   ---------------------- ----------------- 120.8/212.5 MB 4.2 MB/s eta 0:00:23\n",
      "   ---------------------- ----------------- 120.9/212.5 MB 4.2 MB/s eta 0:00:22\n",
      "   ---------------------- ----------------- 121.1/212.5 MB 4.2 MB/s eta 0:00:22\n",
      "   ---------------------- ----------------- 121.2/212.5 MB 4.2 MB/s eta 0:00:22\n",
      "   ---------------------- ----------------- 121.5/212.5 MB 4.1 MB/s eta 0:00:23\n",
      "   ---------------------- ----------------- 121.6/212.5 MB 4.1 MB/s eta 0:00:23\n",
      "   ---------------------- ----------------- 121.9/212.5 MB 4.1 MB/s eta 0:00:23\n",
      "   ---------------------- ----------------- 122.0/212.5 MB 4.1 MB/s eta 0:00:22\n",
      "   ---------------------- ----------------- 122.2/212.5 MB 4.1 MB/s eta 0:00:23\n",
      "   ----------------------- ---------------- 122.4/212.5 MB 4.1 MB/s eta 0:00:23\n",
      "   ----------------------- ---------------- 122.5/212.5 MB 4.1 MB/s eta 0:00:23\n",
      "   ----------------------- ---------------- 122.7/212.5 MB 4.0 MB/s eta 0:00:23\n",
      "   ----------------------- ---------------- 122.9/212.5 MB 4.0 MB/s eta 0:00:23\n",
      "   ----------------------- ---------------- 123.1/212.5 MB 4.0 MB/s eta 0:00:23\n",
      "   ----------------------- ---------------- 123.3/212.5 MB 4.0 MB/s eta 0:00:23\n",
      "   ----------------------- ---------------- 123.5/212.5 MB 4.0 MB/s eta 0:00:23\n",
      "   ----------------------- ---------------- 123.7/212.5 MB 4.0 MB/s eta 0:00:23\n",
      "   ----------------------- ---------------- 123.8/212.5 MB 4.0 MB/s eta 0:00:23\n",
      "   ----------------------- ---------------- 124.1/212.5 MB 4.0 MB/s eta 0:00:23\n",
      "   ----------------------- ---------------- 124.2/212.5 MB 4.0 MB/s eta 0:00:23\n",
      "   ----------------------- ---------------- 124.4/212.5 MB 3.9 MB/s eta 0:00:23\n",
      "   ----------------------- ---------------- 124.5/212.5 MB 3.9 MB/s eta 0:00:23\n",
      "   ----------------------- ---------------- 124.8/212.5 MB 3.9 MB/s eta 0:00:23\n",
      "   ----------------------- ---------------- 124.9/212.5 MB 3.9 MB/s eta 0:00:23\n",
      "   ----------------------- ---------------- 125.2/212.5 MB 3.9 MB/s eta 0:00:23\n",
      "   ----------------------- ---------------- 125.3/212.5 MB 3.9 MB/s eta 0:00:23\n",
      "   ----------------------- ---------------- 125.6/212.5 MB 3.9 MB/s eta 0:00:23\n",
      "   ----------------------- ---------------- 125.7/212.5 MB 3.9 MB/s eta 0:00:23\n",
      "   ----------------------- ---------------- 125.9/212.5 MB 3.9 MB/s eta 0:00:23\n",
      "   ----------------------- ---------------- 126.2/212.5 MB 3.8 MB/s eta 0:00:23\n",
      "   ----------------------- ---------------- 126.3/212.5 MB 3.8 MB/s eta 0:00:23\n",
      "   ----------------------- ---------------- 126.6/212.5 MB 3.8 MB/s eta 0:00:23\n",
      "   ----------------------- ---------------- 126.8/212.5 MB 3.8 MB/s eta 0:00:23\n",
      "   ----------------------- ---------------- 127.0/212.5 MB 3.8 MB/s eta 0:00:23\n",
      "   ----------------------- ---------------- 127.2/212.5 MB 3.8 MB/s eta 0:00:23\n",
      "   ----------------------- ---------------- 127.3/212.5 MB 3.8 MB/s eta 0:00:23\n",
      "   ------------------------ --------------- 127.6/212.5 MB 3.8 MB/s eta 0:00:23\n",
      "   ------------------------ --------------- 127.8/212.5 MB 3.8 MB/s eta 0:00:23\n",
      "   ------------------------ --------------- 127.9/212.5 MB 3.8 MB/s eta 0:00:23\n",
      "   ------------------------ --------------- 128.2/212.5 MB 3.8 MB/s eta 0:00:23\n",
      "   ------------------------ --------------- 129.4/212.5 MB 4.3 MB/s eta 0:00:20\n",
      "   ------------------------ --------------- 129.7/212.5 MB 4.4 MB/s eta 0:00:19\n",
      "   ------------------------ --------------- 129.9/212.5 MB 4.4 MB/s eta 0:00:19\n",
      "   ------------------------ --------------- 130.2/212.5 MB 4.5 MB/s eta 0:00:19\n",
      "   ------------------------ --------------- 130.3/212.5 MB 4.5 MB/s eta 0:00:19\n",
      "   ------------------------ --------------- 130.6/212.5 MB 4.5 MB/s eta 0:00:19\n",
      "   ------------------------ --------------- 130.8/212.5 MB 4.6 MB/s eta 0:00:18\n",
      "   ------------------------ --------------- 131.0/212.5 MB 4.6 MB/s eta 0:00:18\n",
      "   ------------------------ --------------- 131.3/212.5 MB 4.7 MB/s eta 0:00:18\n",
      "   ------------------------ --------------- 131.5/212.5 MB 4.7 MB/s eta 0:00:18\n",
      "   ------------------------ --------------- 131.6/212.5 MB 4.7 MB/s eta 0:00:18\n",
      "   ------------------------ --------------- 131.7/212.5 MB 4.6 MB/s eta 0:00:18\n",
      "   ------------------------ --------------- 132.0/212.5 MB 4.7 MB/s eta 0:00:18\n",
      "   ------------------------ --------------- 132.1/212.5 MB 4.7 MB/s eta 0:00:18\n",
      "   ------------------------ --------------- 132.5/212.5 MB 4.8 MB/s eta 0:00:17\n",
      "   ------------------------ --------------- 132.6/212.5 MB 4.8 MB/s eta 0:00:17\n",
      "   ------------------------- -------------- 133.0/212.5 MB 4.9 MB/s eta 0:00:17\n",
      "   ------------------------- -------------- 133.0/212.5 MB 4.9 MB/s eta 0:00:17\n",
      "   ------------------------- -------------- 133.2/212.5 MB 4.8 MB/s eta 0:00:17\n",
      "   ------------------------- -------------- 133.4/212.5 MB 4.8 MB/s eta 0:00:17\n",
      "   ------------------------- -------------- 133.6/212.5 MB 4.8 MB/s eta 0:00:17\n",
      "   ------------------------- -------------- 133.8/212.5 MB 4.8 MB/s eta 0:00:17\n",
      "   ------------------------- -------------- 133.9/212.5 MB 4.8 MB/s eta 0:00:17\n",
      "   ------------------------- -------------- 134.1/212.5 MB 4.7 MB/s eta 0:00:17\n",
      "   ------------------------- -------------- 134.3/212.5 MB 4.8 MB/s eta 0:00:17\n",
      "   ------------------------- -------------- 134.5/212.5 MB 4.8 MB/s eta 0:00:17\n",
      "   ------------------------- -------------- 134.6/212.5 MB 4.7 MB/s eta 0:00:17\n",
      "   ------------------------- -------------- 134.9/212.5 MB 4.8 MB/s eta 0:00:17\n",
      "   ------------------------- -------------- 135.0/212.5 MB 4.7 MB/s eta 0:00:17\n",
      "   ------------------------- -------------- 135.1/212.5 MB 4.8 MB/s eta 0:00:17\n",
      "   ------------------------- -------------- 135.4/212.5 MB 4.8 MB/s eta 0:00:17\n",
      "   ------------------------- -------------- 135.5/212.5 MB 4.7 MB/s eta 0:00:17\n",
      "   ------------------------- -------------- 135.8/212.5 MB 4.7 MB/s eta 0:00:17\n",
      "   ------------------------- -------------- 136.0/212.5 MB 4.7 MB/s eta 0:00:17\n",
      "   ------------------------- -------------- 136.1/212.5 MB 4.7 MB/s eta 0:00:17\n",
      "   ------------------------- -------------- 136.3/212.5 MB 4.7 MB/s eta 0:00:17\n",
      "   ------------------------- -------------- 136.5/212.5 MB 4.7 MB/s eta 0:00:17\n",
      "   ------------------------- -------------- 136.7/212.5 MB 4.7 MB/s eta 0:00:16\n",
      "   ------------------------- -------------- 137.0/212.5 MB 4.8 MB/s eta 0:00:16\n",
      "   ------------------------- -------------- 137.1/212.5 MB 4.8 MB/s eta 0:00:16\n",
      "   ------------------------- -------------- 137.3/212.5 MB 4.8 MB/s eta 0:00:16\n",
      "   ------------------------- -------------- 137.5/212.5 MB 4.8 MB/s eta 0:00:16\n",
      "   ------------------------- -------------- 137.7/212.5 MB 4.8 MB/s eta 0:00:16\n",
      "   ------------------------- -------------- 138.0/212.5 MB 4.8 MB/s eta 0:00:16\n",
      "   -------------------------- ------------- 138.2/212.5 MB 4.9 MB/s eta 0:00:16\n",
      "   -------------------------- ------------- 138.3/212.5 MB 4.9 MB/s eta 0:00:16\n",
      "   -------------------------- ------------- 138.6/212.5 MB 4.7 MB/s eta 0:00:16\n",
      "   -------------------------- ------------- 138.8/212.5 MB 4.7 MB/s eta 0:00:16\n",
      "   -------------------------- ------------- 139.1/212.5 MB 4.5 MB/s eta 0:00:17\n",
      "   -------------------------- ------------- 139.2/212.5 MB 4.5 MB/s eta 0:00:17\n",
      "   -------------------------- ------------- 139.4/212.5 MB 4.4 MB/s eta 0:00:17\n",
      "   -------------------------- ------------- 139.7/212.5 MB 4.4 MB/s eta 0:00:17\n",
      "   -------------------------- ------------- 140.0/212.5 MB 4.3 MB/s eta 0:00:17\n",
      "   -------------------------- ------------- 140.2/212.5 MB 4.4 MB/s eta 0:00:17\n",
      "   -------------------------- ------------- 140.3/212.5 MB 4.4 MB/s eta 0:00:17\n",
      "   -------------------------- ------------- 140.6/212.5 MB 4.3 MB/s eta 0:00:17\n",
      "   -------------------------- ------------- 140.8/212.5 MB 4.4 MB/s eta 0:00:17\n",
      "   -------------------------- ------------- 141.0/212.5 MB 4.3 MB/s eta 0:00:17\n",
      "   -------------------------- ------------- 141.3/212.5 MB 4.4 MB/s eta 0:00:17\n",
      "   -------------------------- ------------- 141.5/212.5 MB 4.4 MB/s eta 0:00:17\n",
      "   -------------------------- ------------- 141.8/212.5 MB 4.4 MB/s eta 0:00:17\n",
      "   -------------------------- ------------- 142.0/212.5 MB 4.5 MB/s eta 0:00:16\n",
      "   -------------------------- ------------- 142.1/212.5 MB 4.5 MB/s eta 0:00:16\n",
      "   -------------------------- ------------- 142.3/212.5 MB 4.4 MB/s eta 0:00:16\n",
      "   -------------------------- ------------- 142.6/212.5 MB 4.5 MB/s eta 0:00:16\n",
      "   -------------------------- ------------- 142.7/212.5 MB 4.4 MB/s eta 0:00:16\n",
      "   -------------------------- ------------- 142.8/212.5 MB 4.4 MB/s eta 0:00:16\n",
      "   -------------------------- ------------- 143.0/212.5 MB 4.3 MB/s eta 0:00:17\n",
      "   -------------------------- ------------- 143.1/212.5 MB 4.3 MB/s eta 0:00:17\n",
      "   -------------------------- ------------- 143.3/212.5 MB 4.4 MB/s eta 0:00:16\n",
      "   --------------------------- ------------ 143.5/212.5 MB 4.3 MB/s eta 0:00:16\n",
      "   --------------------------- ------------ 143.6/212.5 MB 4.3 MB/s eta 0:00:16\n",
      "   --------------------------- ------------ 143.7/212.5 MB 4.3 MB/s eta 0:00:16\n",
      "   --------------------------- ------------ 144.0/212.5 MB 4.3 MB/s eta 0:00:16\n",
      "   --------------------------- ------------ 144.1/212.5 MB 4.3 MB/s eta 0:00:16\n",
      "   --------------------------- ------------ 144.3/212.5 MB 4.3 MB/s eta 0:00:17\n",
      "   --------------------------- ------------ 144.5/212.5 MB 4.3 MB/s eta 0:00:16\n",
      "   --------------------------- ------------ 144.6/212.5 MB 4.3 MB/s eta 0:00:16\n",
      "   --------------------------- ------------ 144.9/212.5 MB 4.3 MB/s eta 0:00:16\n",
      "   --------------------------- ------------ 145.0/212.5 MB 4.3 MB/s eta 0:00:16\n",
      "   --------------------------- ------------ 145.2/212.5 MB 4.3 MB/s eta 0:00:16\n",
      "   --------------------------- ------------ 145.4/212.5 MB 4.3 MB/s eta 0:00:16\n",
      "   --------------------------- ------------ 145.5/212.5 MB 4.3 MB/s eta 0:00:16\n",
      "   --------------------------- ------------ 145.7/212.5 MB 4.3 MB/s eta 0:00:16\n",
      "   --------------------------- ------------ 145.9/212.5 MB 4.3 MB/s eta 0:00:16\n",
      "   --------------------------- ------------ 146.1/212.5 MB 4.3 MB/s eta 0:00:16\n",
      "   --------------------------- ------------ 146.2/212.5 MB 4.3 MB/s eta 0:00:16\n",
      "   --------------------------- ------------ 146.5/212.5 MB 4.3 MB/s eta 0:00:16\n",
      "   --------------------------- ------------ 146.6/212.5 MB 4.3 MB/s eta 0:00:16\n",
      "   --------------------------- ------------ 146.8/212.5 MB 4.3 MB/s eta 0:00:16\n",
      "   --------------------------- ------------ 147.0/212.5 MB 4.3 MB/s eta 0:00:16\n",
      "   --------------------------- ------------ 147.2/212.5 MB 4.3 MB/s eta 0:00:16\n",
      "   --------------------------- ------------ 147.3/212.5 MB 4.3 MB/s eta 0:00:16\n",
      "   --------------------------- ------------ 147.5/212.5 MB 4.2 MB/s eta 0:00:16\n",
      "   --------------------------- ------------ 147.7/212.5 MB 4.2 MB/s eta 0:00:16\n",
      "   --------------------------- ------------ 147.8/212.5 MB 4.2 MB/s eta 0:00:16\n",
      "   --------------------------- ------------ 148.1/212.5 MB 4.2 MB/s eta 0:00:16\n",
      "   --------------------------- ------------ 148.3/212.5 MB 4.2 MB/s eta 0:00:16\n",
      "   --------------------------- ------------ 148.4/212.5 MB 4.1 MB/s eta 0:00:16\n",
      "   --------------------------- ------------ 148.6/212.5 MB 4.1 MB/s eta 0:00:16\n",
      "   --------------------------- ------------ 148.7/212.5 MB 4.1 MB/s eta 0:00:16\n",
      "   ---------------------------- ----------- 148.8/212.5 MB 4.1 MB/s eta 0:00:16\n",
      "   ---------------------------- ----------- 149.0/212.5 MB 4.1 MB/s eta 0:00:16\n",
      "   ---------------------------- ----------- 149.2/212.5 MB 4.0 MB/s eta 0:00:16\n",
      "   ---------------------------- ----------- 149.4/212.5 MB 4.0 MB/s eta 0:00:16\n",
      "   ---------------------------- ----------- 149.5/212.5 MB 4.0 MB/s eta 0:00:16\n",
      "   ---------------------------- ----------- 149.7/212.5 MB 3.9 MB/s eta 0:00:16\n",
      "   ---------------------------- ----------- 149.8/212.5 MB 3.9 MB/s eta 0:00:16\n",
      "   ---------------------------- ----------- 150.1/212.5 MB 3.9 MB/s eta 0:00:17\n",
      "   ---------------------------- ----------- 150.2/212.5 MB 3.9 MB/s eta 0:00:16\n",
      "   ---------------------------- ----------- 150.3/212.5 MB 3.9 MB/s eta 0:00:16\n",
      "   ---------------------------- ----------- 150.6/212.5 MB 3.9 MB/s eta 0:00:17\n",
      "   ---------------------------- ----------- 150.7/212.5 MB 3.9 MB/s eta 0:00:17\n",
      "   ---------------------------- ----------- 150.8/212.5 MB 3.8 MB/s eta 0:00:17\n",
      "   ---------------------------- ----------- 151.1/212.5 MB 3.8 MB/s eta 0:00:17\n",
      "   ---------------------------- ----------- 151.2/212.5 MB 3.8 MB/s eta 0:00:17\n",
      "   ---------------------------- ----------- 151.4/212.5 MB 3.8 MB/s eta 0:00:17\n",
      "   ---------------------------- ----------- 151.6/212.5 MB 3.8 MB/s eta 0:00:17\n",
      "   ---------------------------- ----------- 151.7/212.5 MB 3.8 MB/s eta 0:00:17\n",
      "   ---------------------------- ----------- 151.8/212.5 MB 3.8 MB/s eta 0:00:17\n",
      "   ---------------------------- ----------- 152.1/212.5 MB 3.8 MB/s eta 0:00:17\n",
      "   ---------------------------- ----------- 152.2/212.5 MB 3.7 MB/s eta 0:00:17\n",
      "   ---------------------------- ----------- 152.5/212.5 MB 3.7 MB/s eta 0:00:17\n",
      "   ---------------------------- ----------- 152.6/212.5 MB 3.8 MB/s eta 0:00:16\n",
      "   ---------------------------- ----------- 152.7/212.5 MB 3.7 MB/s eta 0:00:17\n",
      "   ---------------------------- ----------- 153.0/212.5 MB 3.7 MB/s eta 0:00:17\n",
      "   ---------------------------- ----------- 153.1/212.5 MB 3.7 MB/s eta 0:00:16\n",
      "   ---------------------------- ----------- 153.4/212.5 MB 3.8 MB/s eta 0:00:16\n",
      "   ---------------------------- ----------- 153.5/212.5 MB 3.8 MB/s eta 0:00:16\n",
      "   ---------------------------- ----------- 153.6/212.5 MB 3.8 MB/s eta 0:00:16\n",
      "   ---------------------------- ----------- 153.9/212.5 MB 3.8 MB/s eta 0:00:16\n",
      "   ----------------------------- ---------- 154.2/212.5 MB 3.8 MB/s eta 0:00:16\n",
      "   ----------------------------- ---------- 154.3/212.5 MB 3.8 MB/s eta 0:00:16\n",
      "   ----------------------------- ---------- 154.5/212.5 MB 3.8 MB/s eta 0:00:16\n",
      "   ----------------------------- ---------- 154.8/212.5 MB 3.8 MB/s eta 0:00:16\n",
      "   ----------------------------- ---------- 154.9/212.5 MB 3.8 MB/s eta 0:00:16\n",
      "   ----------------------------- ---------- 155.2/212.5 MB 3.8 MB/s eta 0:00:15\n",
      "   ----------------------------- ---------- 155.3/212.5 MB 3.8 MB/s eta 0:00:15\n",
      "   ----------------------------- ---------- 155.5/212.5 MB 3.8 MB/s eta 0:00:16\n",
      "   ----------------------------- ---------- 155.8/212.5 MB 3.8 MB/s eta 0:00:15\n",
      "   ----------------------------- ---------- 155.9/212.5 MB 3.9 MB/s eta 0:00:15\n",
      "   ----------------------------- ---------- 156.1/212.5 MB 3.9 MB/s eta 0:00:15\n",
      "   ----------------------------- ---------- 156.1/212.5 MB 3.9 MB/s eta 0:00:15\n",
      "   ----------------------------- ---------- 156.1/212.5 MB 3.9 MB/s eta 0:00:15\n",
      "   ----------------------------- ---------- 156.4/212.5 MB 3.8 MB/s eta 0:00:15\n",
      "   ----------------------------- ---------- 156.5/212.5 MB 3.7 MB/s eta 0:00:15\n",
      "   ----------------------------- ---------- 156.7/212.5 MB 3.7 MB/s eta 0:00:15\n",
      "   ----------------------------- ---------- 157.0/212.5 MB 3.7 MB/s eta 0:00:15\n",
      "   ----------------------------- ---------- 157.1/212.5 MB 3.8 MB/s eta 0:00:15\n",
      "   ----------------------------- ---------- 157.4/212.5 MB 3.8 MB/s eta 0:00:15\n",
      "   ----------------------------- ---------- 157.6/212.5 MB 3.9 MB/s eta 0:00:15\n",
      "   ----------------------------- ---------- 158.0/212.5 MB 3.9 MB/s eta 0:00:15\n",
      "   ----------------------------- ---------- 158.1/212.5 MB 3.9 MB/s eta 0:00:15\n",
      "   ----------------------------- ---------- 158.3/212.5 MB 3.9 MB/s eta 0:00:14\n",
      "   ----------------------------- ---------- 158.6/212.5 MB 3.9 MB/s eta 0:00:14\n",
      "   ----------------------------- ---------- 158.8/212.5 MB 3.9 MB/s eta 0:00:14\n",
      "   ----------------------------- ---------- 158.9/212.5 MB 4.0 MB/s eta 0:00:14\n",
      "   ----------------------------- ---------- 159.3/212.5 MB 4.1 MB/s eta 0:00:14\n",
      "   ------------------------------ --------- 159.4/212.5 MB 4.1 MB/s eta 0:00:14\n",
      "   ------------------------------ --------- 159.6/212.5 MB 4.1 MB/s eta 0:00:14\n",
      "   ------------------------------ --------- 159.9/212.5 MB 4.1 MB/s eta 0:00:13\n",
      "   ------------------------------ --------- 160.1/212.5 MB 4.2 MB/s eta 0:00:13\n",
      "   ------------------------------ --------- 160.2/212.5 MB 4.2 MB/s eta 0:00:13\n",
      "   ------------------------------ --------- 160.6/212.5 MB 4.3 MB/s eta 0:00:13\n",
      "   ------------------------------ --------- 160.8/212.5 MB 4.3 MB/s eta 0:00:13\n",
      "   ------------------------------ --------- 160.9/212.5 MB 4.3 MB/s eta 0:00:12\n",
      "   ------------------------------ --------- 161.3/212.5 MB 4.3 MB/s eta 0:00:12\n",
      "   ------------------------------ --------- 161.4/212.5 MB 4.3 MB/s eta 0:00:12\n",
      "   ------------------------------ --------- 161.6/212.5 MB 4.4 MB/s eta 0:00:12\n",
      "   ------------------------------ --------- 161.9/212.5 MB 4.4 MB/s eta 0:00:12\n",
      "   ------------------------------ --------- 162.1/212.5 MB 4.4 MB/s eta 0:00:12\n",
      "   ------------------------------ --------- 162.3/212.5 MB 4.5 MB/s eta 0:00:12\n",
      "   ------------------------------ --------- 162.6/212.5 MB 4.5 MB/s eta 0:00:12\n",
      "   ------------------------------ --------- 162.7/212.5 MB 4.5 MB/s eta 0:00:12\n",
      "   ------------------------------ --------- 162.9/212.5 MB 4.4 MB/s eta 0:00:12\n",
      "   ------------------------------ --------- 163.1/212.5 MB 4.5 MB/s eta 0:00:12\n",
      "   ------------------------------ --------- 163.2/212.5 MB 4.4 MB/s eta 0:00:12\n",
      "   ------------------------------ --------- 163.4/212.5 MB 4.4 MB/s eta 0:00:12\n",
      "   ------------------------------ --------- 163.6/212.5 MB 4.4 MB/s eta 0:00:12\n",
      "   ------------------------------ --------- 163.7/212.5 MB 4.4 MB/s eta 0:00:12\n",
      "   ------------------------------ --------- 164.0/212.5 MB 4.4 MB/s eta 0:00:11\n",
      "   ------------------------------ --------- 164.1/212.5 MB 4.4 MB/s eta 0:00:11\n",
      "   ------------------------------ --------- 164.4/212.5 MB 4.4 MB/s eta 0:00:11\n",
      "   ------------------------------ --------- 164.5/212.5 MB 4.4 MB/s eta 0:00:11\n",
      "   ------------------------------ --------- 164.7/212.5 MB 4.4 MB/s eta 0:00:11\n",
      "   ------------------------------- -------- 164.9/212.5 MB 4.4 MB/s eta 0:00:11\n",
      "   ------------------------------- -------- 165.1/212.5 MB 4.4 MB/s eta 0:00:11\n",
      "   ------------------------------- -------- 165.4/212.5 MB 4.4 MB/s eta 0:00:11\n",
      "   ------------------------------- -------- 165.5/212.5 MB 4.4 MB/s eta 0:00:11\n",
      "   ------------------------------- -------- 165.7/212.5 MB 4.4 MB/s eta 0:00:11\n",
      "   ------------------------------- -------- 165.9/212.5 MB 4.4 MB/s eta 0:00:11\n",
      "   ------------------------------- -------- 166.1/212.5 MB 4.4 MB/s eta 0:00:11\n",
      "   ------------------------------- -------- 166.4/212.5 MB 4.6 MB/s eta 0:00:11\n",
      "   ------------------------------- -------- 166.5/212.5 MB 4.6 MB/s eta 0:00:11\n",
      "   ------------------------------- -------- 166.7/212.5 MB 4.5 MB/s eta 0:00:11\n",
      "   ------------------------------- -------- 167.0/212.5 MB 4.6 MB/s eta 0:00:10\n",
      "   ------------------------------- -------- 167.1/212.5 MB 4.6 MB/s eta 0:00:10\n",
      "   ------------------------------- -------- 167.4/212.5 MB 4.5 MB/s eta 0:00:11\n",
      "   ------------------------------- -------- 167.6/212.5 MB 4.5 MB/s eta 0:00:10\n",
      "   ------------------------------- -------- 167.8/212.5 MB 4.5 MB/s eta 0:00:10\n",
      "   ------------------------------- -------- 168.1/212.5 MB 4.5 MB/s eta 0:00:10\n",
      "   ------------------------------- -------- 168.2/212.5 MB 4.6 MB/s eta 0:00:10\n",
      "   ------------------------------- -------- 168.5/212.5 MB 4.5 MB/s eta 0:00:10\n",
      "   ------------------------------- -------- 168.7/212.5 MB 4.5 MB/s eta 0:00:10\n",
      "   ------------------------------- -------- 169.0/212.5 MB 4.5 MB/s eta 0:00:10\n",
      "   ------------------------------- -------- 169.2/212.5 MB 4.6 MB/s eta 0:00:10\n",
      "   ------------------------------- -------- 169.5/212.5 MB 4.5 MB/s eta 0:00:10\n",
      "   ------------------------------- -------- 169.6/212.5 MB 4.5 MB/s eta 0:00:10\n",
      "   ------------------------------- -------- 169.6/212.5 MB 4.5 MB/s eta 0:00:10\n",
      "   ------------------------------- -------- 169.6/212.5 MB 4.4 MB/s eta 0:00:10\n",
      "   ------------------------------- -------- 169.6/212.5 MB 4.4 MB/s eta 0:00:10\n",
      "   ------------------------------- -------- 169.6/212.5 MB 4.4 MB/s eta 0:00:10\n",
      "   ------------------------------- -------- 169.6/212.5 MB 4.4 MB/s eta 0:00:10\n",
      "   ------------------------------- -------- 169.6/212.5 MB 4.4 MB/s eta 0:00:10\n",
      "   ------------------------------- -------- 169.6/212.5 MB 3.9 MB/s eta 0:00:11\n",
      "   -------------------------------- ------- 171.3/212.5 MB 4.5 MB/s eta 0:00:10\n",
      "   -------------------------------- ------- 172.4/212.5 MB 4.8 MB/s eta 0:00:09\n",
      "   -------------------------------- ------- 174.8/212.5 MB 6.4 MB/s eta 0:00:06\n",
      "   -------------------------------- ------- 175.1/212.5 MB 6.4 MB/s eta 0:00:06\n",
      "   -------------------------------- ------- 175.2/212.5 MB 6.4 MB/s eta 0:00:06\n",
      "   --------------------------------- ------ 175.5/212.5 MB 6.4 MB/s eta 0:00:06\n",
      "   --------------------------------- ------ 175.6/212.5 MB 6.4 MB/s eta 0:00:06\n",
      "   --------------------------------- ------ 175.8/212.5 MB 6.3 MB/s eta 0:00:06\n",
      "   --------------------------------- ------ 176.1/212.5 MB 6.4 MB/s eta 0:00:06\n",
      "   --------------------------------- ------ 176.3/212.5 MB 6.3 MB/s eta 0:00:06\n",
      "   --------------------------------- ------ 176.5/212.5 MB 6.4 MB/s eta 0:00:06\n",
      "   --------------------------------- ------ 176.7/212.5 MB 6.4 MB/s eta 0:00:06\n",
      "   --------------------------------- ------ 176.8/212.5 MB 6.4 MB/s eta 0:00:06\n",
      "   --------------------------------- ------ 177.1/212.5 MB 6.5 MB/s eta 0:00:06\n",
      "   --------------------------------- ------ 177.3/212.5 MB 6.4 MB/s eta 0:00:06\n",
      "   --------------------------------- ------ 177.4/212.5 MB 6.4 MB/s eta 0:00:06\n",
      "   --------------------------------- ------ 177.6/212.5 MB 6.3 MB/s eta 0:00:06\n",
      "   --------------------------------- ------ 177.9/212.5 MB 6.4 MB/s eta 0:00:06\n",
      "   --------------------------------- ------ 178.0/212.5 MB 6.4 MB/s eta 0:00:06\n",
      "   --------------------------------- ------ 178.3/212.5 MB 6.4 MB/s eta 0:00:06\n",
      "   --------------------------------- ------ 178.5/212.5 MB 6.4 MB/s eta 0:00:06\n",
      "   --------------------------------- ------ 178.8/212.5 MB 6.4 MB/s eta 0:00:06\n",
      "   --------------------------------- ------ 179.0/212.5 MB 6.3 MB/s eta 0:00:06\n",
      "   --------------------------------- ------ 179.3/212.5 MB 6.4 MB/s eta 0:00:06\n",
      "   --------------------------------- ------ 179.4/212.5 MB 6.4 MB/s eta 0:00:06\n",
      "   --------------------------------- ------ 179.7/212.5 MB 6.3 MB/s eta 0:00:06\n",
      "   --------------------------------- ------ 179.9/212.5 MB 7.9 MB/s eta 0:00:05\n",
      "   --------------------------------- ------ 180.2/212.5 MB 7.6 MB/s eta 0:00:05\n",
      "   --------------------------------- ------ 180.3/212.5 MB 7.4 MB/s eta 0:00:05\n",
      "   --------------------------------- ------ 180.6/212.5 MB 7.1 MB/s eta 0:00:05\n",
      "   ---------------------------------- ----- 180.9/212.5 MB 7.0 MB/s eta 0:00:05\n",
      "   ---------------------------------- ----- 181.1/212.5 MB 6.9 MB/s eta 0:00:05\n",
      "   ---------------------------------- ----- 181.2/212.5 MB 6.7 MB/s eta 0:00:05\n",
      "   ---------------------------------- ----- 181.6/212.5 MB 6.7 MB/s eta 0:00:05\n",
      "   ---------------------------------- ----- 181.8/212.5 MB 6.5 MB/s eta 0:00:05\n",
      "   ---------------------------------- ----- 181.9/212.5 MB 6.4 MB/s eta 0:00:05\n",
      "   ---------------------------------- ----- 182.1/212.5 MB 6.2 MB/s eta 0:00:05\n",
      "   ---------------------------------- ----- 182.2/212.5 MB 6.1 MB/s eta 0:00:06\n",
      "   ---------------------------------- ----- 182.5/212.5 MB 5.8 MB/s eta 0:00:06\n",
      "   ---------------------------------- ----- 182.7/212.5 MB 5.8 MB/s eta 0:00:06\n",
      "   ---------------------------------- ----- 182.8/212.5 MB 5.6 MB/s eta 0:00:06\n",
      "   ---------------------------------- ----- 183.0/212.5 MB 5.5 MB/s eta 0:00:06\n",
      "   ---------------------------------- ----- 183.2/212.5 MB 5.4 MB/s eta 0:00:06\n",
      "   ---------------------------------- ----- 183.3/212.5 MB 5.3 MB/s eta 0:00:06\n",
      "   ---------------------------------- ----- 183.5/212.5 MB 5.2 MB/s eta 0:00:06\n",
      "   ---------------------------------- ----- 183.5/212.5 MB 5.2 MB/s eta 0:00:06\n",
      "   ---------------------------------- ----- 183.5/212.5 MB 5.2 MB/s eta 0:00:06\n",
      "   ---------------------------------- ----- 183.5/212.5 MB 5.2 MB/s eta 0:00:06\n",
      "   ---------------------------------- ----- 183.5/212.5 MB 5.2 MB/s eta 0:00:06\n",
      "   ---------------------------------- ----- 183.5/212.5 MB 5.2 MB/s eta 0:00:06\n",
      "   ---------------------------------- ----- 183.5/212.5 MB 5.2 MB/s eta 0:00:06\n",
      "   ---------------------------------- ----- 183.7/212.5 MB 4.4 MB/s eta 0:00:07\n",
      "   ---------------------------------- ----- 185.6/212.5 MB 4.7 MB/s eta 0:00:06\n",
      "   ----------------------------------- ---- 186.3/212.5 MB 4.9 MB/s eta 0:00:06\n",
      "   ----------------------------------- ---- 186.5/212.5 MB 5.0 MB/s eta 0:00:06\n",
      "   ----------------------------------- ---- 186.6/212.5 MB 5.0 MB/s eta 0:00:06\n",
      "   ----------------------------------- ---- 186.8/212.5 MB 4.9 MB/s eta 0:00:06\n",
      "   ----------------------------------- ---- 187.1/212.5 MB 4.9 MB/s eta 0:00:06\n",
      "   ----------------------------------- ---- 187.1/212.5 MB 4.9 MB/s eta 0:00:06\n",
      "   ----------------------------------- ---- 187.2/212.5 MB 4.8 MB/s eta 0:00:06\n",
      "   ----------------------------------- ---- 187.4/212.5 MB 4.9 MB/s eta 0:00:06\n",
      "   ----------------------------------- ---- 187.7/212.5 MB 4.8 MB/s eta 0:00:06\n",
      "   ----------------------------------- ---- 187.9/212.5 MB 4.8 MB/s eta 0:00:06\n",
      "   ----------------------------------- ---- 188.1/212.5 MB 4.8 MB/s eta 0:00:06\n",
      "   ----------------------------------- ---- 188.4/212.5 MB 4.9 MB/s eta 0:00:05\n",
      "   ----------------------------------- ---- 188.7/212.5 MB 4.9 MB/s eta 0:00:05\n",
      "   ----------------------------------- ---- 189.0/212.5 MB 5.0 MB/s eta 0:00:05\n",
      "   ----------------------------------- ---- 189.5/212.5 MB 5.1 MB/s eta 0:00:05\n",
      "   ----------------------------------- ---- 190.1/212.5 MB 5.3 MB/s eta 0:00:05\n",
      "   ----------------------------------- ---- 190.2/212.5 MB 5.2 MB/s eta 0:00:05\n",
      "   ----------------------------------- ---- 190.6/212.5 MB 5.4 MB/s eta 0:00:05\n",
      "   ----------------------------------- ---- 190.8/212.5 MB 5.4 MB/s eta 0:00:05\n",
      "   ----------------------------------- ---- 191.1/212.5 MB 5.4 MB/s eta 0:00:04\n",
      "   ------------------------------------ --- 191.5/212.5 MB 5.5 MB/s eta 0:00:04\n",
      "   ------------------------------------ --- 191.9/212.5 MB 5.5 MB/s eta 0:00:04\n",
      "   ------------------------------------ --- 192.6/212.5 MB 5.8 MB/s eta 0:00:04\n",
      "   ------------------------------------ --- 193.2/212.5 MB 6.4 MB/s eta 0:00:04\n",
      "   ------------------------------------ --- 194.1/212.5 MB 8.8 MB/s eta 0:00:03\n",
      "   ------------------------------------ --- 195.2/212.5 MB 8.6 MB/s eta 0:00:03\n",
      "   ------------------------------------ --- 196.4/212.5 MB 8.5 MB/s eta 0:00:02\n",
      "   ------------------------------------ -- 197.6/212.5 MB 10.7 MB/s eta 0:00:02\n",
      "   ------------------------------------ -- 198.8/212.5 MB 13.9 MB/s eta 0:00:01\n",
      "   ------------------------------------ -- 199.9/212.5 MB 14.9 MB/s eta 0:00:01\n",
      "   ------------------------------------ -- 201.0/212.5 MB 17.2 MB/s eta 0:00:01\n",
      "   ------------------------------------- - 201.7/212.5 MB 19.8 MB/s eta 0:00:01\n",
      "   ------------------------------------- - 202.5/212.5 MB 21.1 MB/s eta 0:00:01\n",
      "   ------------------------------------- - 203.4/212.5 MB 21.8 MB/s eta 0:00:01\n",
      "   ------------------------------------- - 204.3/212.5 MB 21.8 MB/s eta 0:00:01\n",
      "   ------------------------------------- - 205.5/212.5 MB 22.6 MB/s eta 0:00:01\n",
      "   ------------------------------------- - 206.8/212.5 MB 22.6 MB/s eta 0:00:01\n",
      "   --------------------------------------  207.7/212.5 MB 21.1 MB/s eta 0:00:01\n",
      "   --------------------------------------  208.7/212.5 MB 21.1 MB/s eta 0:00:01\n",
      "   --------------------------------------  209.7/212.5 MB 20.5 MB/s eta 0:00:01\n",
      "   --------------------------------------  210.5/212.5 MB 20.5 MB/s eta 0:00:01\n",
      "   --------------------------------------  211.5/212.5 MB 20.5 MB/s eta 0:00:01\n",
      "   --------------------------------------  212.5/212.5 MB 21.1 MB/s eta 0:00:01\n",
      "   --------------------------------------  212.5/212.5 MB 21.1 MB/s eta 0:00:01\n",
      "   --------------------------------------  212.5/212.5 MB 21.1 MB/s eta 0:00:01\n",
      "   --------------------------------------  212.5/212.5 MB 21.1 MB/s eta 0:00:01\n",
      "   --------------------------------------  212.5/212.5 MB 21.1 MB/s eta 0:00:01\n",
      "   --------------------------------------  212.5/212.5 MB 21.1 MB/s eta 0:00:01\n",
      "   --------------------------------------  212.5/212.5 MB 21.1 MB/s eta 0:00:01\n",
      "   --------------------------------------  212.5/212.5 MB 21.1 MB/s eta 0:00:01\n",
      "   --------------------------------------  212.5/212.5 MB 21.1 MB/s eta 0:00:01\n",
      "   --------------------------------------  212.5/212.5 MB 21.1 MB/s eta 0:00:01\n",
      "   --------------------------------------  212.5/212.5 MB 21.1 MB/s eta 0:00:01\n",
      "   --------------------------------------  212.5/212.5 MB 21.1 MB/s eta 0:00:01\n",
      "   --------------------------------------  212.5/212.5 MB 21.1 MB/s eta 0:00:01\n",
      "   --------------------------------------  212.5/212.5 MB 21.1 MB/s eta 0:00:01\n",
      "   --------------------------------------  212.5/212.5 MB 21.1 MB/s eta 0:00:01\n",
      "   --------------------------------------  212.5/212.5 MB 21.1 MB/s eta 0:00:01\n",
      "   --------------------------------------  212.5/212.5 MB 21.1 MB/s eta 0:00:01\n",
      "   --------------------------------------  212.5/212.5 MB 21.1 MB/s eta 0:00:01\n",
      "   --------------------------------------  212.5/212.5 MB 21.1 MB/s eta 0:00:01\n",
      "   --------------------------------------  212.5/212.5 MB 21.1 MB/s eta 0:00:01\n",
      "   --------------------------------------  212.5/212.5 MB 21.1 MB/s eta 0:00:01\n",
      "   --------------------------------------  212.5/212.5 MB 21.1 MB/s eta 0:00:01\n",
      "   --------------------------------------  212.5/212.5 MB 21.1 MB/s eta 0:00:01\n",
      "   --------------------------------------  212.5/212.5 MB 21.1 MB/s eta 0:00:01\n",
      "   --------------------------------------  212.5/212.5 MB 21.1 MB/s eta 0:00:01\n",
      "   --------------------------------------  212.5/212.5 MB 21.1 MB/s eta 0:00:01\n",
      "   --------------------------------------  212.5/212.5 MB 21.1 MB/s eta 0:00:01\n",
      "   --------------------------------------  212.5/212.5 MB 21.1 MB/s eta 0:00:01\n",
      "   --------------------------------------  212.5/212.5 MB 21.1 MB/s eta 0:00:01\n",
      "   --------------------------------------  212.5/212.5 MB 21.1 MB/s eta 0:00:01\n",
      "   --------------------------------------  212.5/212.5 MB 21.1 MB/s eta 0:00:01\n",
      "   --------------------------------------  212.5/212.5 MB 21.1 MB/s eta 0:00:01\n",
      "   --------------------------------------  212.5/212.5 MB 21.1 MB/s eta 0:00:01\n",
      "   --------------------------------------  212.5/212.5 MB 21.1 MB/s eta 0:00:01\n",
      "   --------------------------------------  212.5/212.5 MB 21.1 MB/s eta 0:00:01\n",
      "   --------------------------------------  212.5/212.5 MB 21.1 MB/s eta 0:00:01\n",
      "   --------------------------------------  212.5/212.5 MB 21.1 MB/s eta 0:00:01\n",
      "   --------------------------------------  212.5/212.5 MB 21.1 MB/s eta 0:00:01\n",
      "   --------------------------------------  212.5/212.5 MB 21.1 MB/s eta 0:00:01\n",
      "   --------------------------------------  212.5/212.5 MB 21.1 MB/s eta 0:00:01\n",
      "   --------------------------------------  212.5/212.5 MB 21.1 MB/s eta 0:00:01\n",
      "   --------------------------------------  212.5/212.5 MB 21.1 MB/s eta 0:00:01\n",
      "   ---------------------------------------- 212.5/212.5 MB 4.2 MB/s eta 0:00:00\n",
      "Downloading sympy-1.14.0-py3-none-any.whl (6.3 MB)\n",
      "   ---------------------------------------- 0.0/6.3 MB ? eta -:--:--\n",
      "   ---------- ----------------------------- 1.6/6.3 MB 52.9 MB/s eta 0:00:01\n",
      "   ------------------ --------------------- 2.8/6.3 MB 36.4 MB/s eta 0:00:01\n",
      "   -------------------------- ------------- 4.2/6.3 MB 33.3 MB/s eta 0:00:01\n",
      "   ------------------------------------ --- 5.8/6.3 MB 33.6 MB/s eta 0:00:01\n",
      "   ---------------------------------------  6.3/6.3 MB 33.4 MB/s eta 0:00:01\n",
      "   ---------------------------------------  6.3/6.3 MB 33.4 MB/s eta 0:00:01\n",
      "   ---------------------------------------- 6.3/6.3 MB 22.4 MB/s eta 0:00:00\n",
      "Downloading typing_extensions-4.13.2-py3-none-any.whl (45 kB)\n",
      "   ---------------------------------------- 0.0/45.8 kB ? eta -:--:--\n",
      "   ---------------------------------------- 45.8/45.8 kB 1.1 MB/s eta 0:00:00\n",
      "Installing collected packages: typing-extensions, sympy, torch\n",
      "  Attempting uninstall: typing-extensions\n",
      "    Found existing installation: typing_extensions 4.9.0\n",
      "    Uninstalling typing_extensions-4.9.0:\n",
      "      Successfully uninstalled typing_extensions-4.9.0\n",
      "  Attempting uninstall: sympy\n",
      "    Found existing installation: sympy 1.12\n",
      "    Uninstalling sympy-1.12:\n",
      "      Successfully uninstalled sympy-1.12\n",
      "Successfully installed sympy-1.14.0 torch-2.7.0 typing-extensions-4.13.2\n"
     ]
    }
   ],
   "source": [
    "! pip3 install torch"
   ]
  },
  {
   "cell_type": "code",
   "execution_count": 55,
   "id": "f636edca",
   "metadata": {},
   "outputs": [],
   "source": [
    "#we use pytorch for this\n",
    "\n",
    "from torch.utils.data import Dataset, DataLoader\n",
    "\n",
    "class GPTDatasetV1(Dataset):\n",
    "    def __init__(self, txt, tokenizer, max_length, stride):\n",
    "        self.input_ids = []\n",
    "        self.target_ids = []\n",
    "        \n",
    "        #Tokenize entire text\n",
    "        \n",
    "        token_ids = tokenizer.encode(txt,allowed_special = {\"<|endoftext|>\"})\n",
    "        \n",
    "        #use a sliding window to chunk the book into overlapping sequences of max_length\n",
    "        \n",
    "        for i in range(0,len(token_ids) - max_length, stride):\n",
    "            input_chunk = token_ids[i:i+max_length]\n",
    "            target_chunk = token_ids[i+1:i+max_length + 1]\n",
    "            self.input_ids.append(torch.tensor(input_chunk))\n",
    "            self.target_ids.append(torch.tensor(target_chunk))\n",
    "            \n",
    "    def __len__(self):\n",
    "        return len(self.input_ids)\n",
    "    \n",
    "    def __getitem__(self, idx):\n",
    "        return self.input_ids[idx], self.target_ids[idx]\n",
    "    \n",
    "        \n",
    "        "
   ]
  },
  {
   "cell_type": "code",
   "execution_count": 62,
   "id": "fb067056",
   "metadata": {},
   "outputs": [],
   "source": [
    "def create_dataloader_v1(txt, batch_size = 4, max_length=256, stride = 128,\n",
    "                         shuffle = True, drop_last=True, num_workers=0):\n",
    "    \n",
    "    #initalise the tokeniser\n",
    "    \n",
    "    tokenizer = tiktoken.get_encoding(\"gpt2\")\n",
    "    \n",
    "    #Creating dataset\n",
    "    \n",
    "    dataset = GPTDatasetV1(txt, tokenizer, max_length, stride)\n",
    "    \n",
    "    #Creating dataloader\n",
    "    dataloader = DataLoader(\n",
    "        dataset,\n",
    "        batch_size=batch_size,\n",
    "        shuffle = shuffle,\n",
    "        drop_last = drop_last,\n",
    "        num_workers=num_workers\n",
    "    )\n",
    "    \n",
    "    return dataloader\n"
   ]
  },
  {
   "cell_type": "code",
   "execution_count": 63,
   "id": "080f5f20",
   "metadata": {},
   "outputs": [],
   "source": [
    "with open(\"the-verdict (1).txt\", \"r\", encoding=\"utf-8\") as f:\n",
    "    raw_text = f.read()"
   ]
  },
  {
   "cell_type": "code",
   "execution_count": 64,
   "id": "1238c144",
   "metadata": {},
   "outputs": [],
   "source": [
    "#Convert dataloader into a Python iterator to fetch the next entry via Python's built-in next() function"
   ]
  },
  {
   "cell_type": "code",
   "execution_count": 65,
   "id": "5cadff4c",
   "metadata": {
    "scrolled": true
   },
   "outputs": [
    {
     "name": "stdout",
     "output_type": "stream",
     "text": [
      "Pytorch version: 2.7.0+cpu\n",
      "[tensor([[  40,  367, 2885, 1464]]), tensor([[ 367, 2885, 1464, 1807]])]\n"
     ]
    }
   ],
   "source": [
    "import torch\n",
    "print(\"Pytorch version:\", torch.__version__)\n",
    "dataloader = create_dataloader_v1(\n",
    "    raw_text, batch_size=1, max_length=4, stride=1, shuffle=False\n",
    ")\n",
    "\n",
    "data_iter =iter(dataloader)\n",
    "first_batch = next(data_iter)\n",
    "print(first_batch)"
   ]
  },
  {
   "cell_type": "markdown",
   "id": "2bb5f13e",
   "metadata": {},
   "source": [
    "## Creating Token Embeddings"
   ]
  },
  {
   "cell_type": "code",
   "execution_count": 66,
   "id": "15bb29cc",
   "metadata": {},
   "outputs": [],
   "source": [
    "input_ids = torch.tensor([2,3,5,1])\n"
   ]
  },
  {
   "cell_type": "code",
   "execution_count": 70,
   "id": "03d85855",
   "metadata": {},
   "outputs": [],
   "source": [
    "vocab_size = 6\n",
    "output_dim = 3\n",
    "\n",
    "torch.manual_seed(123) # Sets the random seed so results are reproducible \n",
    "embedding_layer = torch.nn.Embedding(vocab_size, output_dim)"
   ]
  },
  {
   "cell_type": "code",
   "execution_count": 71,
   "id": "bbe7f174",
   "metadata": {},
   "outputs": [
    {
     "name": "stdout",
     "output_type": "stream",
     "text": [
      "Parameter containing:\n",
      "tensor([[ 0.3374, -0.1778, -0.1690],\n",
      "        [ 0.9178,  1.5810,  1.3010],\n",
      "        [ 1.2753, -0.2010, -0.1606],\n",
      "        [-0.4015,  0.9666, -1.1481],\n",
      "        [-1.1589,  0.3255, -0.6315],\n",
      "        [-2.8400, -0.7849, -1.4096]], requires_grad=True)\n"
     ]
    }
   ],
   "source": [
    "print(embedding_layer.weight)"
   ]
  },
  {
   "cell_type": "code",
   "execution_count": 72,
   "id": "f5c12f3d",
   "metadata": {},
   "outputs": [
    {
     "name": "stdout",
     "output_type": "stream",
     "text": [
      "tensor([[-0.4015,  0.9666, -1.1481]], grad_fn=<EmbeddingBackward0>)\n"
     ]
    }
   ],
   "source": [
    "print(embedding_layer(torch.tensor([3])))"
   ]
  },
  {
   "cell_type": "code",
   "execution_count": 73,
   "id": "11a6909b",
   "metadata": {},
   "outputs": [
    {
     "name": "stdout",
     "output_type": "stream",
     "text": [
      "tensor([[ 1.2753, -0.2010, -0.1606],\n",
      "        [-0.4015,  0.9666, -1.1481],\n",
      "        [-2.8400, -0.7849, -1.4096],\n",
      "        [ 0.9178,  1.5810,  1.3010]], grad_fn=<EmbeddingBackward0>)\n"
     ]
    }
   ],
   "source": [
    "print(embedding_layer(input_ids))"
   ]
  },
  {
   "cell_type": "markdown",
   "id": "b698f297",
   "metadata": {},
   "source": [
    "# POSITIONAL EMBEDDINGS"
   ]
  },
  {
   "cell_type": "code",
   "execution_count": 74,
   "id": "2c10ee0c",
   "metadata": {},
   "outputs": [],
   "source": [
    "vocab_size = 50257\n",
    "output_dim = 256\n",
    "\n",
    "token_embedding_layer = torch.nn.Embedding(vocab_size, output_dim)"
   ]
  },
  {
   "cell_type": "code",
   "execution_count": 76,
   "id": "6814bcc2",
   "metadata": {},
   "outputs": [],
   "source": [
    "#Initaite the dataloader\n",
    "\n",
    "max_length = 4 #context_size is 4\n",
    "dataloader = create_dataloader_v1(\n",
    "    raw_text, batch_size = 8, max_length = max_length,\n",
    "    stride = max_length, shuffle = False\n",
    ")\n",
    "data_iter = iter(dataloader) #iterate through the dataloader\n",
    "inputs, targets = next(data_iter)"
   ]
  },
  {
   "cell_type": "code",
   "execution_count": 78,
   "id": "81f49e0b",
   "metadata": {},
   "outputs": [
    {
     "name": "stdout",
     "output_type": "stream",
     "text": [
      "Token IDs:\n",
      " tensor([[   40,   367,  2885,  1464],\n",
      "        [ 1807,  3619,   402,   271],\n",
      "        [10899,  2138,   257,  7026],\n",
      "        [15632,   438,  2016,   257],\n",
      "        [  922,  5891,  1576,   438],\n",
      "        [  568,   340,   373,   645],\n",
      "        [ 1049,  5975,   284,   502],\n",
      "        [  284,  3285,   326,    11]])\n",
      "\n",
      "Inputs shape:\n",
      " torch.Size([8, 4])\n"
     ]
    }
   ],
   "source": [
    "print(\"Token IDs:\\n\", inputs)\n",
    "print(\"\\nInputs shape:\\n\", inputs.shape)"
   ]
  },
  {
   "cell_type": "code",
   "execution_count": 81,
   "id": "9a5c3bb3",
   "metadata": {},
   "outputs": [
    {
     "name": "stdout",
     "output_type": "stream",
     "text": [
      "torch.Size([8, 4, 256])\n"
     ]
    }
   ],
   "source": [
    "#so now the token id tensor is 8*4 dim, we need to transform or embedd these token ids into 256 dim vectors\n",
    "token_embeddings = token_embedding_layer(inputs)\n",
    "print(token_embeddings.shape)"
   ]
  },
  {
   "cell_type": "code",
   "execution_count": 82,
   "id": "c87d94cb",
   "metadata": {},
   "outputs": [],
   "source": [
    "# abs positional embedding\n",
    "context_length = max_length\n",
    "pos_embedding_layer = torch.nn.Embedding(context_length, output_dim)\n"
   ]
  },
  {
   "cell_type": "code",
   "execution_count": 84,
   "id": "562c4225",
   "metadata": {},
   "outputs": [
    {
     "name": "stdout",
     "output_type": "stream",
     "text": [
      "torch.Size([4, 256])\n"
     ]
    }
   ],
   "source": [
    "#we only need 4 (max_length ) positional embedding vectors\n",
    "pos_embeddings = pos_embedding_layer(torch.arange(max_length))\n",
    "print(pos_embeddings.shape)"
   ]
  },
  {
   "cell_type": "markdown",
   "id": "36fad91b",
   "metadata": {},
   "source": [
    "# Input Embeddings = Pos + Token Embeddings"
   ]
  },
  {
   "cell_type": "code",
   "execution_count": 85,
   "id": "8c005308",
   "metadata": {},
   "outputs": [
    {
     "name": "stdout",
     "output_type": "stream",
     "text": [
      "torch.Size([8, 4, 256])\n"
     ]
    }
   ],
   "source": [
    "#addition...\n",
    "input_embeddings = token_embeddings + pos_embeddings\n",
    "print(input_embeddings.shape)"
   ]
  },
  {
   "cell_type": "markdown",
   "id": "49355b5a",
   "metadata": {},
   "source": [
    "# IMPLEMENTING A SIMPLIFIED ATTENTION MECHANISM\n"
   ]
  },
  {
   "cell_type": "code",
   "execution_count": 4,
   "id": "993abd62",
   "metadata": {},
   "outputs": [],
   "source": [
    "import torch\n",
    "\n",
    "inputs = torch.tensor(\n",
    "    [[0.43,0.15,0.89], #Your\n",
    "     [0.55,0.87,0.66], #journey\n",
    "     [0.57,0.85,0.64], #starts\n",
    "     [0.22,0.58,0.33], #with\n",
    "     [0.77,0.25,0.10], #one\n",
    "     [0.05, 0.80, 0.55]]s\n",
    ")                       #step"
   ]
  },
  {
   "cell_type": "code",
   "execution_count": null,
   "id": "fbabe399",
   "metadata": {},
   "outputs": [],
   "source": [
    "import torch\n",
    "\n",
    "inputs = torch.tensor(\n",
    "    [[0.43,0.15,0.89], #Your\n",
    "     [0.55,0.87,0.66], #journey\n",
    "     [0.57,0.85,0.64], #starts\n",
    "     [0.22,0.58,0.33], #with\n",
    "     [0.77,0.25,0.10], #one\n",
    "     [0.05, 0.80, 0.55]]\n",
    ")\n",
    "\n",
    "#step\n",
    "import matplotlib.pyplot as plt\n",
    "from mpl_toolkits.mplot3d import Axes3D\n",
    "\n",
    "\n",
    "words = ['Your', 'Journey', 'starts', 'with', 'one', 'step']\n",
    "\n",
    "x_coords = inputs[:, 0].numpy()\n",
    "y_coords = inputs[:, 1].numpy()\n",
    "z_coords = inputs[:, 2].numpy()\n",
    "#create 3d plot\n",
    "\n",
    "fig = plt.figure()\n",
    "ax = fig.add_subplot(111, projection = '3d')\n",
    "\n",
    "for x,y,z, word in zip(x_coords, y_coords, z_coords, words):\n",
    "    ax.scatter(x,y,z)\n",
    "    ax.text(x,y,z, word, fontsize = 10)\n",
    "    \n",
    "ax.set_xlabel('X')\n",
    "ax.set_ylabel('Y')\n",
    "ax.set_zlabel('Z')\n",
    "\n",
    "plt.title('3D Plot of Word Embeddings')\n",
    "plt.show()\n"
   ]
  },
  {
   "cell_type": "code",
   "execution_count": null,
   "id": "0695036e",
   "metadata": {},
   "outputs": [],
   "source": []
  }
 ],
 "metadata": {
  "kernelspec": {
   "display_name": "Python 3 (ipykernel)",
   "language": "python",
   "name": "python3"
  },
  "language_info": {
   "codemirror_mode": {
    "name": "ipython",
    "version": 3
   },
   "file_extension": ".py",
   "mimetype": "text/x-python",
   "name": "python",
   "nbconvert_exporter": "python",
   "pygments_lexer": "ipython3",
   "version": "3.11.7"
  }
 },
 "nbformat": 4,
 "nbformat_minor": 5
}
